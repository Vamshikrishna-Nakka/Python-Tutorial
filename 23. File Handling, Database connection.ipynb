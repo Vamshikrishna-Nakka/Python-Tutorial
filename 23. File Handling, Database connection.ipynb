{
 "cells": [
  {
   "cell_type": "markdown",
   "metadata": {},
   "source": [
    "#### Database connection"
   ]
  },
  {
   "cell_type": "markdown",
   "metadata": {},
   "source": [
    "- To access the MySQL database from Python, you need a database driver. MySQL Connector/Python is a standardized database driver provided by MySQL.\n",
    "- MySQL Connector/Python supports almost all features provided by MySQL version 5.7.\n",
    "- The pip command allows you to install MySQL Python connector on any Operating system including Windows, macOS, Linux, and Unix:<br>\n",
    "<b>pip install mysql-connector-python</b>\n",
    "- uninstall current MySQL Connector/Python<br>\n",
    "<b>pip uninstall mysql-connector-python</b>"
   ]
  },
  {
   "cell_type": "code",
   "execution_count": 6,
   "metadata": {},
   "outputs": [
    {
     "name": "stdout",
     "output_type": "stream",
     "text": [
      "1045 (28000): Access denied for user 'root'@'localhost' (using password: YES)\n"
     ]
    }
   ],
   "source": [
    "import mysql.connector\n",
    "from mysql.connector import Error\n",
    "def connect():\n",
    "    \"\"\" Connect to MySQL database \"\"\"\n",
    "    conn = None\n",
    "    try:\n",
    "        conn = mysql.connector.connect(host='localhost',\n",
    "                                       database='python_mysql',\n",
    "                                       user='root',\n",
    "                                       password='SecurePass1!')\n",
    "        if conn.is_connected():\n",
    "            print('Connected to MySQL database')\n",
    "\n",
    "    except Error as e:\n",
    "        print(e)\n",
    "        \n",
    "    finally:\n",
    "        if conn is not None and conn.is_connected():\n",
    "            conn.close()\n",
    "\n",
    "\n",
    "if __name__ == '__main__':\n",
    "    connect()"
   ]
  },
  {
   "cell_type": "markdown",
   "metadata": {},
   "source": [
    "## File Handling"
   ]
  },
  {
   "cell_type": "markdown",
   "metadata": {},
   "source": [
    "### Open()\n",
    "The open function returns a file object that contains methods and attributes to perform various operations on the file<br>\n",
    "<b>Syntax :</b>file_object  = open(\"filename\", \"mode\",\"buffering\")<br>\n",
    "\n",
    "<b>filename</b>:<br>\n",
    "- gives name of the file that the file object has opened.like \"Nakka.txt\" \n",
    "- or we can also provide the path of file location\n",
    "\n",
    "<b>buffering</b>\n",
    "- If the buffering value is set to 0, no buffering takes place. If the buffering value is 1, line buffering is performed while accessing a file.If negative, the buffer size is the system default(default behavior).<br>\n",
    "\n",
    "<b>Modes</b>\n",
    "- \"r\" - Read - Default value. Opens a file for reading, error if the file does not exist\n",
    "- \"r+\"- Both reading and writing\n",
    "- \"a\" - Append - Opens a file for appending, creates the file if it does not exist and append/add a new data to the         existing file from the end, after the existing data.\n",
    "- \"w\" - Write - Opens a file for writing, creates the file if it does not exist\n",
    "- \"x\" - Create - Creates the specified file, returns an error if the file exists\n",
    "- \"t\" - Text - Default value. Text mode\n",
    "- \"b\" - Binary - Binary mode (e.g. images)\n",
    "-  \"+\" - it adds write or read with mode\n",
    "\n",
    "We can also use combination of modes like rb+ for both reading and writing in binary format\n",
    "\n"
   ]
  },
  {
   "cell_type": "code",
   "execution_count": 25,
   "metadata": {},
   "outputs": [
    {
     "name": "stdout",
     "output_type": "stream",
     "text": [
      "Name of the file:  foo.txt\n",
      "Closed or not :  False\n",
      "Opening mode :  r\n",
      "<_io.TextIOWrapper name='foo.txt' mode='r' encoding='cp1252'>\n"
     ]
    }
   ],
   "source": [
    "fo = open(\"foo.txt\", \"r\")\n",
    "print (\"Name of the file: \", fo.name)   #To get the name of the file\n",
    "print (\"Closed or not : \", fo.closed)   #Is file is closed or not\n",
    "print (\"Opening mode : \", fo.mode)      #mode of the file\n",
    "print(fo)                               #  know about the file type"
   ]
  },
  {
   "cell_type": "code",
   "execution_count": 54,
   "metadata": {},
   "outputs": [
    {
     "name": "stdout",
     "output_type": "stream",
     "text": [
      "\n",
      "\n"
     ]
    }
   ],
   "source": [
    "f = open('MyData','w+') # It will try to open a file but if file not exists the it will create when it is write mode \n",
    "print(f.read())   # read in the rest till end of file\n",
    "f.read(4)    # read the next 4 data\n",
    "f.readline()# to get single line no. of readline that many lines will print\n",
    "f.readlines()#returns a list of remaining lines of the entire file.\n",
    "f.seek(0)   # bring file cursor to initial position\n",
    "f.tell()    # get the current file position"
   ]
  },
  {
   "cell_type": "code",
   "execution_count": 55,
   "metadata": {},
   "outputs": [
    {
     "name": "stdout",
     "output_type": "stream",
     "text": [
      "Woops! I have deleted the content!SomethingPeopleMobile"
     ]
    }
   ],
   "source": [
    "#Example\n",
    "\n",
    "f = open('Hello.txt','w')# when we use w then if any statement we remove then it will also removes in file to make stable \n",
    "#                                                                                                           use append(a)\n",
    "f.write(\"Woops! I have deleted the content!\")\n",
    "f.write(\"Something\")\n",
    "f.write(\"People\")\n",
    "f.write('Mobile')\n",
    "f.close()                    # we need to close the file after work\n",
    "\n",
    "#open and read the file after the appending:\n",
    "f = open('Hello.txt','r')\n",
    "print(f.read(),end=\"\") # reads everything"
   ]
  },
  {
   "cell_type": "code",
   "execution_count": null,
   "metadata": {},
   "outputs": [],
   "source": [
    "#If an exception occurs when we are performing some operation with the file,A safer way\n",
    "try:\n",
    "    f = open(\"test.txt\", encoding = 'utf-8')\n",
    "   # perform file operations\n",
    "finally:\n",
    "    f.close()"
   ]
  },
  {
   "cell_type": "code",
   "execution_count": 47,
   "metadata": {},
   "outputs": [],
   "source": [
    "# for reading one by one through loop\n",
    "for data in f:\n",
    "     f.write(data)"
   ]
  },
  {
   "cell_type": "code",
   "execution_count": 44,
   "metadata": {},
   "outputs": [],
   "source": [
    "#for picture\n",
    "p = open('ms.jpg','rb')\n",
    "\n",
    "p1 = open('mypic.jpg','wb') # copying to  mypic\n",
    "\n",
    "for i in p:\n",
    "    p1.write(i)"
   ]
  },
  {
   "cell_type": "code",
   "execution_count": 50,
   "metadata": {},
   "outputs": [
    {
     "ename": "FileNotFoundError",
     "evalue": "[WinError 2] The system cannot find the file specified: 'g.txt'",
     "output_type": "error",
     "traceback": [
      "\u001b[1;31m---------------------------------------------------------------------------\u001b[0m",
      "\u001b[1;31mFileNotFoundError\u001b[0m                         Traceback (most recent call last)",
      "\u001b[1;32m<ipython-input-50-57e18a2b08af>\u001b[0m in \u001b[0;36m<module>\u001b[1;34m\u001b[0m\n\u001b[0;32m      1\u001b[0m \u001b[1;31m#Remove the file\u001b[0m\u001b[1;33m\u001b[0m\u001b[1;33m\u001b[0m\u001b[1;33m\u001b[0m\u001b[0m\n\u001b[0;32m      2\u001b[0m \u001b[1;32mimport\u001b[0m \u001b[0mos\u001b[0m\u001b[1;33m\u001b[0m\u001b[1;33m\u001b[0m\u001b[0m\n\u001b[1;32m----> 3\u001b[1;33m \u001b[0mos\u001b[0m\u001b[1;33m.\u001b[0m\u001b[0mremove\u001b[0m\u001b[1;33m(\u001b[0m\u001b[1;34m\"g.txt\"\u001b[0m\u001b[1;33m)\u001b[0m\u001b[1;33m\u001b[0m\u001b[1;33m\u001b[0m\u001b[0m\n\u001b[0m",
      "\u001b[1;31mFileNotFoundError\u001b[0m: [WinError 2] The system cannot find the file specified: 'g.txt'"
     ]
    }
   ],
   "source": [
    "#Remove the file \n",
    "import os\n",
    "os.remove(\"g.txt\")"
   ]
  },
  {
   "cell_type": "code",
   "execution_count": 51,
   "metadata": {},
   "outputs": [
    {
     "name": "stdout",
     "output_type": "stream",
     "text": [
      "The file does not exist\n"
     ]
    }
   ],
   "source": [
    "#To avoid getting an error, you might want to check if the file exists before you try to delete it:\n",
    "import os\n",
    "if os.path.exists(\"demofile.txt\"):\n",
    "    os.remove(\"demofile.txt\")\n",
    "else:\n",
    "    print(\"The file does not exist\")"
   ]
  },
  {
   "cell_type": "code",
   "execution_count": 52,
   "metadata": {},
   "outputs": [
    {
     "ename": "FileNotFoundError",
     "evalue": "[WinError 2] The system cannot find the file specified: 'myfolder'",
     "output_type": "error",
     "traceback": [
      "\u001b[1;31m---------------------------------------------------------------------------\u001b[0m",
      "\u001b[1;31mFileNotFoundError\u001b[0m                         Traceback (most recent call last)",
      "\u001b[1;32m<ipython-input-52-295f628de035>\u001b[0m in \u001b[0;36m<module>\u001b[1;34m\u001b[0m\n\u001b[0;32m      1\u001b[0m \u001b[1;31m#To delete an entire folder\u001b[0m\u001b[1;33m\u001b[0m\u001b[1;33m\u001b[0m\u001b[1;33m\u001b[0m\u001b[0m\n\u001b[0;32m      2\u001b[0m \u001b[1;32mimport\u001b[0m \u001b[0mos\u001b[0m\u001b[1;33m\u001b[0m\u001b[1;33m\u001b[0m\u001b[0m\n\u001b[1;32m----> 3\u001b[1;33m \u001b[0mos\u001b[0m\u001b[1;33m.\u001b[0m\u001b[0mrmdir\u001b[0m\u001b[1;33m(\u001b[0m\u001b[1;34m\"myfolder\"\u001b[0m\u001b[1;33m)\u001b[0m\u001b[1;33m\u001b[0m\u001b[1;33m\u001b[0m\u001b[0m\n\u001b[0m",
      "\u001b[1;31mFileNotFoundError\u001b[0m: [WinError 2] The system cannot find the file specified: 'myfolder'"
     ]
    }
   ],
   "source": [
    "#To delete an entire folder\n",
    "import os\n",
    "os.rmdir(\"myfolder\")"
   ]
  },
  {
   "cell_type": "code",
   "execution_count": null,
   "metadata": {},
   "outputs": [],
   "source": [
    "# Example\n",
    "\n",
    "\n"
   ]
  }
 ],
 "metadata": {
  "kernelspec": {
   "display_name": "Python 3",
   "language": "python",
   "name": "python3"
  },
  "language_info": {
   "codemirror_mode": {
    "name": "ipython",
    "version": 3
   },
   "file_extension": ".py",
   "mimetype": "text/x-python",
   "name": "python",
   "nbconvert_exporter": "python",
   "pygments_lexer": "ipython3",
   "version": "3.7.6"
  }
 },
 "nbformat": 4,
 "nbformat_minor": 4
}
