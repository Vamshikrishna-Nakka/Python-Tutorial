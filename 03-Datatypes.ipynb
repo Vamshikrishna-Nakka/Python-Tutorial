{
 "cells": [
  {
   "cell_type": "markdown",
   "metadata": {},
   "source": [
    "### Datatypes\n",
    "- Variables can store data of different datatypes,but datatypes are built-in by default.\n",
    " - <b>Numeric</b>       :   int,float,complex\n",
    " - <b>Sequence types</b>:  list,tuple, str, range\n",
    " - <b>Boolean</b>       :   bool(True or False)\n",
    " - <b>Dictionary or Map</b>:dict\n",
    " - <b>Set</b>             : set ,frozenset\n",
    " - <b>Binary Types</b>    : bytes, bytearray, memoryview"
   ]
  },
  {
   "cell_type": "markdown",
   "metadata": {},
   "source": [
    "- These datatypes are divided into to groups mutable and immutable\n",
    "\n",
    "  - <b>mutable</b>  :  It can change its state or contents they are\n",
    "              list, dictionary,set,bytearray\n",
    "  - <b>immutable:</b>  It cannot change its state or contents they are\n",
    "              int,float,complex,bool ,str ,tuple, bytes,frozenset\n",
    "        \n",
    "  - <b>range</b> act as both loop and sequence type\n"
   ]
  },
  {
   "cell_type": "code",
   "execution_count": 5,
   "metadata": {},
   "outputs": [],
   "source": [
    "a = 2  #integer\n",
    "a = 2.0 #float\n",
    "a = 2 + 1j #complex\n",
    "a = [1, 2, 3] #list\n",
    "a = (1, 2, 3) #tuple\n",
    "a='hello'      #string\n",
    "a= range(1,10)   #range\n",
    "a = {1, 2, 'a'} #set\n",
    "a = {1: 'one',2: 'two'} #dictionary\n",
    "\n",
    "x and y # if x is False then x otherwise y"
   ]
  },
  {
   "cell_type": "code",
   "execution_count": 6,
   "metadata": {},
   "outputs": [
    {
     "name": "stdout",
     "output_type": "stream",
     "text": [
      "<class 'float'>\n"
     ]
    }
   ],
   "source": [
    "p=5.5\n",
    "print(type(p)) # To Know about the datatype S"
   ]
  },
  {
   "cell_type": "markdown",
   "metadata": {},
   "source": [
    "## Casting "
   ]
  },
  {
   "cell_type": "code",
   "execution_count": 1,
   "metadata": {},
   "outputs": [
    {
     "data": {
      "text/plain": [
       "'2'"
      ]
     },
     "execution_count": 1,
     "metadata": {},
     "output_type": "execute_result"
    }
   ],
   "source": [
    "str(2) # from int to string"
   ]
  },
  {
   "cell_type": "code",
   "execution_count": 4,
   "metadata": {},
   "outputs": [
    {
     "data": {
      "text/plain": [
       "1.0"
      ]
     },
     "execution_count": 4,
     "metadata": {},
     "output_type": "execute_result"
    }
   ],
   "source": [
    "float('1') # from string to float"
   ]
  },
  {
   "cell_type": "code",
   "execution_count": 3,
   "metadata": {},
   "outputs": [
    {
     "data": {
      "text/plain": [
       "2"
      ]
     },
     "execution_count": 3,
     "metadata": {},
     "output_type": "execute_result"
    }
   ],
   "source": [
    "int(2.8)   # from float to int"
   ]
  },
  {
   "cell_type": "code",
   "execution_count": 10,
   "metadata": {},
   "outputs": [
    {
     "data": {
      "text/plain": [
       "'0x5'"
      ]
     },
     "execution_count": 10,
     "metadata": {},
     "output_type": "execute_result"
    }
   ],
   "source": [
    "hex(5)   # decimal to hex"
   ]
  },
  {
   "cell_type": "code",
   "execution_count": 9,
   "metadata": {},
   "outputs": [
    {
     "data": {
      "text/plain": [
       "'0b1001'"
      ]
     },
     "execution_count": 9,
     "metadata": {},
     "output_type": "execute_result"
    }
   ],
   "source": [
    "bin(9)    # decimal to hex"
   ]
  },
  {
   "cell_type": "code",
   "execution_count": 8,
   "metadata": {},
   "outputs": [
    {
     "data": {
      "text/plain": [
       "'0o3'"
      ]
     },
     "execution_count": 8,
     "metadata": {},
     "output_type": "execute_result"
    }
   ],
   "source": [
    "oct(3)     # decimal to hex"
   ]
  },
  {
   "cell_type": "code",
   "execution_count": null,
   "metadata": {},
   "outputs": [],
   "source": []
  }
 ],
 "metadata": {
  "kernelspec": {
   "display_name": "Python 3",
   "language": "python",
   "name": "python3"
  },
  "language_info": {
   "codemirror_mode": {
    "name": "ipython",
    "version": 3
   },
   "file_extension": ".py",
   "mimetype": "text/x-python",
   "name": "python",
   "nbconvert_exporter": "python",
   "pygments_lexer": "ipython3",
   "version": "3.7.6"
  }
 },
 "nbformat": 4,
 "nbformat_minor": 4
}
