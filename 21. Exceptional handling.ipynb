{
 "cells": [
  {
   "cell_type": "markdown",
   "metadata": {},
   "source": [
    "#### Iterators"
   ]
  },
  {
   "cell_type": "markdown",
   "metadata": {},
   "source": [
    "- Iterator in python is an object that is used to iterate over iterable objects like lists, tuples, dicts and sets. Iterator object is initialised using the iter() method. It uses the next() method for iteration.\n",
    "- __iter(iterable)__ method that is called for initialization of an iterator. This returns an iterator object\n",
    "- next ( __next__ in Python 3) The next method returns the next value for the iterable. When we use a for loop to traverse any iterable object, internally it uses the iter() method to get an iterator object which further uses next() method to iterate over. This method raises a StopIteration to signal the end of the iteration."
   ]
  },
  {
   "cell_type": "code",
   "execution_count": 2,
   "metadata": {},
   "outputs": [
    {
     "name": "stdout",
     "output_type": "stream",
     "text": [
      "4\n",
      "7\n",
      "4\n",
      "7\n",
      "0\n",
      "3\n"
     ]
    }
   ],
   "source": [
    "#Iterating Through an Iterator\n",
    "\n",
    "# define a list\n",
    "li = [4, 7, 0, 3]\n",
    "\n",
    "# get an iterator using iter()\n",
    "it = iter(li)\n",
    "\n",
    "# iterate through it using next()\n",
    "\n",
    "# Output: 4\n",
    "print(next(it)) \n",
    "\n",
    "# Output: 7\n",
    "print(next(it)) # next(obj) is same as obj.__next__()\n",
    "\n",
    "for i in li:\n",
    "    print(i)\n",
    "\n",
    "# the both iter and next are inbuilt objects if we want to create our own iterator then lets see below"
   ]
  },
  {
   "cell_type": "code",
   "execution_count": 3,
   "metadata": {},
   "outputs": [
    {
     "name": "stdout",
     "output_type": "stream",
     "text": [
      "10\n",
      "11\n",
      "12\n",
      "13\n",
      "14\n",
      "15\n"
     ]
    }
   ],
   "source": [
    "#Building Custom Iterators\n",
    "\n",
    "# An iterable user defined type \n",
    "class Test: \n",
    "  \n",
    "    # Cosntructor \n",
    "    def __init__(self, limit): \n",
    "        self.limit = limit \n",
    "  \n",
    "    # Called when iteration is initialized \n",
    "    def __iter__(self): \n",
    "        self.x = 10\n",
    "        return self\n",
    "  \n",
    "    # To move to next element. In Python 3, \n",
    "    # we should replace next with __next__ \n",
    "    def __next__(self): \n",
    "  \n",
    "        # Store current value of x \n",
    "        x = self.x \n",
    "  \n",
    "        # Stop iteration if limit is reached \n",
    "        if x > self.limit: \n",
    "            raise StopIteration \n",
    "  \n",
    "        # Else increment and return old value \n",
    "        self.x = x + 1; \n",
    "        return x \n",
    "# Prints numbers from 10 to 15 \n",
    "for i in Test(15): \n",
    "    print(i)"
   ]
  },
  {
   "cell_type": "markdown",
   "metadata": {},
   "source": [
    "#### Generators"
   ]
  },
  {
   "cell_type": "markdown",
   "metadata": {},
   "source": [
    "- There is a lot of work in building an iterator in Python. We have to implement a class with __iter__() and __next__() method, keep track of internal states, and raise StopIteration when there are no values to be returned.This is both lengthy and counterintuitive. Generator comes to the rescue in such situations.\n",
    "- Python generators are a simple way of creating iterators. All the work we mentioned above are automatically handled by generators in Python.\n",
    "- Simply speaking, a generator is a function that returns an object (iterator) which we can iterate over (one value at a time).\n",
    "- <b>Generator-Function </b>:A generator-function is defined like a normal function, but whenever it needs to generate a value, it does so with the yield keyword rather than return. If the body of a def contains yield, the function automatically becomes a generator function.\n"
   ]
  },
  {
   "cell_type": "code",
   "execution_count": 4,
   "metadata": {},
   "outputs": [
    {
     "name": "stdout",
     "output_type": "stream",
     "text": [
      "1\n",
      "2\n",
      "3\n"
     ]
    }
   ],
   "source": [
    "def Gen(): \n",
    "    yield 1            \n",
    "    yield 2            \n",
    "    yield 3            \n",
    "\n",
    "# Driver code to check above generator function \n",
    "for value in Gen():  \n",
    "    print(value) "
   ]
  },
  {
   "cell_type": "markdown",
   "metadata": {},
   "source": [
    "- <b>Generator-Object</b>:Generator functions return a generator object. Generator objects are used either by calling the next method on the generator object or using the generator object in a “for in” loop (as shown in the above program)."
   ]
  },
  {
   "cell_type": "code",
   "execution_count": 5,
   "metadata": {},
   "outputs": [
    {
     "name": "stdout",
     "output_type": "stream",
     "text": [
      "1\n",
      "2\n",
      "3\n",
      "<class 'generator'>\n"
     ]
    }
   ],
   "source": [
    "def simpleGen(): \n",
    "    yield 1\n",
    "    yield 2\n",
    "    yield 3\n",
    "\n",
    "# x is a generator object \n",
    "x = simpleGen() \n",
    "  \n",
    "# Iterating over the generator object using next \n",
    "print(x.__next__())  \n",
    "print(x.__next__()) \n",
    "print(x.__next__())\n",
    "\n",
    "print(type(x))  # type of that- if we have yield then it belongs to generators"
   ]
  },
  {
   "cell_type": "markdown",
   "metadata": {},
   "source": [
    "#### Exception Handling\n",
    "- There are (at least) two distinguishable kinds of errors: syntax errors and exceptions.\n",
    "- <b>Syntax Errors</b>:also known as parsing errors,This is an error in the syntax of a sequence of characters or tokens that is intended to be written in compile-time. A program will not compile until all syntax errors are corrected.\n",
    "- <b>Exceptions</b>:Even if a statement or expression is syntactically correct, it may cause an error when an attempt is made to execute it. Errors detected during execution are called exceptions.exceptions are not handled by programs(application).This should be handled by separate programs."
   ]
  },
  {
   "cell_type": "code",
   "execution_count": 6,
   "metadata": {},
   "outputs": [
    {
     "ename": "SyntaxError",
     "evalue": "invalid syntax (<ipython-input-6-5d58fdfcbf7f>, line 3)",
     "output_type": "error",
     "traceback": [
      "\u001b[1;36m  File \u001b[1;32m\"<ipython-input-6-5d58fdfcbf7f>\"\u001b[1;36m, line \u001b[1;32m3\u001b[0m\n\u001b[1;33m    if(a>299)\u001b[0m\n\u001b[1;37m             ^\u001b[0m\n\u001b[1;31mSyntaxError\u001b[0m\u001b[1;31m:\u001b[0m invalid syntax\n"
     ]
    }
   ],
   "source": [
    "#examples of syntax errors\n",
    "a=50\n",
    "if(a>299)\n",
    "    print(\"syntax error\") "
   ]
  },
  {
   "cell_type": "code",
   "execution_count": null,
   "metadata": {},
   "outputs": [],
   "source": [
    "# example of exceptions\n",
    "10 * (1/0)"
   ]
  },
  {
   "attachments": {
    "python-exception-heirarchi.png": {
     "image/png": "[encoded data removed]"
    }
   },
   "cell_type": "markdown",
   "metadata": {},
   "source": [
    "#### Exception hierarchy\n",
    "![python-exception-heirarchi.png](attachment:python-exception-heirarchi.png)"
   ]
  },
  {
   "cell_type": "markdown",
   "metadata": {},
   "source": [
    "#### Handling Exceptions\n",
    "- exceptions can be handled by 3 block\n",
    "- The <b>try</b> block lets you test a block of code for errors.\n",
    "- The <b>except</b> block lets you handle the error.\n",
    "- The <b>finally</b> block lets you execute code, regardless of the result of the try- and except blocks."
   ]
  },
  {
   "cell_type": "code",
   "execution_count": 13,
   "metadata": {},
   "outputs": [
    {
     "name": "stdout",
     "output_type": "stream",
     "text": [
      "Please enter a number: 8\n"
     ]
    }
   ],
   "source": [
    "#Exaplanation:\n",
    "#1) First, the try clause (the statement(s) between the try and except keywords) is executed.\n",
    "#2) If no exception occurs, the except clause is skipped and execution of the try statement is finished.\n",
    "\n",
    "#3) If an exception occurs during execution of the try clause, the rest of the clause is skipped. Then if its type matches \n",
    "#    the exception named after the except keyword, the except clause is executed,and then execution continues after the try\n",
    "#     statement.\n",
    "\n",
    "# 4) If an exception occurs which does not match the exception named in the except clause, it is passed on to outer try \n",
    "#  statements; if no handler is found, it is an unhandled exception and execution stops with a message as shown above.\n",
    "\n",
    "while True:\n",
    "        try:  \n",
    "            x = int(input(\"Please enter a number: \"))\n",
    "            break\n",
    "        except ValueError: \n",
    "            print(\"Oops!  That was no valid number.  Try again...\")"
   ]
  },
  {
   "cell_type": "code",
   "execution_count": 16,
   "metadata": {},
   "outputs": [
    {
     "name": "stdout",
     "output_type": "stream",
     "text": [
      "resource Open\n",
      "2.5\n",
      "Enter a number9\n",
      "9\n"
     ]
    }
   ],
   "source": [
    "#A try statement may have more than one except clause, to specify handlers for different exceptions we can use as below.\n",
    "a = 5\n",
    "b = 2\n",
    "try:\n",
    "    print(\"resource Open\")\n",
    "    print(a/b)\n",
    "    k = int(input(\"Enter a number\"))\n",
    "    print(k)\n",
    "\n",
    "except ZeroDivisionError as e:                  # with as to print that \n",
    "    print(\"Hey, You cannot divide a Number by Zero\" , e)\n",
    "\n",
    "except ValueError:            # with out as\n",
    "    print(\"Invalid Input\")\n",
    "\n",
    "except Exception as e:\n",
    "    print(\"Something went Wrong...\")\n",
    "    \n",
    "    \n",
    "# if you want all handlers in single except to handle we can use as below\n",
    "\n",
    "#  except (RuntimeError, TypeError, NameError):\n",
    "#          pass"
   ]
  },
  {
   "cell_type": "markdown",
   "metadata": {},
   "source": [
    "we can use the <b>else</b> keyword to define a block of code to be executed if no errors were raised:"
   ]
  },
  {
   "cell_type": "code",
   "execution_count": 10,
   "metadata": {},
   "outputs": [
    {
     "name": "stdout",
     "output_type": "stream",
     "text": [
      "Enter a number0.9\n",
      "Something went Wrong...\n"
     ]
    }
   ],
   "source": [
    "try:\n",
    "    k = int(input(\"Enter a number\"))\n",
    "    print(k)\n",
    "except Exception as e:\n",
    "    print(\"Something went Wrong...\")\n",
    "else:\n",
    "    print(\"Nothing went wrong\")     "
   ]
  },
  {
   "cell_type": "markdown",
   "metadata": {},
   "source": [
    "<b>finally</b> block, if specified, will be executed regardless if the try block raises an error or not."
   ]
  },
  {
   "cell_type": "code",
   "execution_count": 18,
   "metadata": {},
   "outputs": [
    {
     "name": "stdout",
     "output_type": "stream",
     "text": [
      "resource Open\n",
      "2.5\n",
      "Enter a number 9\n",
      "9\n",
      "resource Closed\n"
     ]
    }
   ],
   "source": [
    "a = 5\n",
    "b = 2\n",
    "\n",
    "try:\n",
    "    print(\"resource Open\")\n",
    "    print(a/b)\n",
    "    k = int(input(\"Enter a number \"))\n",
    "    print(k)\n",
    "\n",
    "except ZeroDivisionError as e:\n",
    "    print(\"Hey, You cannot divide a Number by Zero\" , e)\n",
    "\n",
    "except ValueError as e:\n",
    "    print(\"Invalid Input\")\n",
    "\n",
    "except Exception as e:\n",
    "    print(\"Something went Wrong...\")\n",
    "\n",
    "finally:\n",
    "    print(\"resource Closed\")"
   ]
  },
  {
   "cell_type": "markdown",
   "metadata": {},
   "source": [
    "#### Raise an exception\n",
    "- The throw (or raise) statement allows the programmer to force a specified exception to occur. use the raise keyword."
   ]
  },
  {
   "cell_type": "code",
   "execution_count": 31,
   "metadata": {},
   "outputs": [
    {
     "ename": "Exception",
     "evalue": "Sorry, no numbers below zero",
     "output_type": "error",
     "traceback": [
      "\u001b[1;31m---------------------------------------------------------------------------\u001b[0m",
      "\u001b[1;31mException\u001b[0m                                 Traceback (most recent call last)",
      "\u001b[1;32m<ipython-input-31-38174769ef86>\u001b[0m in \u001b[0;36m<module>\u001b[1;34m\u001b[0m\n\u001b[0;32m      2\u001b[0m \u001b[1;33m\u001b[0m\u001b[0m\n\u001b[0;32m      3\u001b[0m \u001b[1;32mif\u001b[0m \u001b[0mx\u001b[0m \u001b[1;33m<\u001b[0m \u001b[1;36m0\u001b[0m\u001b[1;33m:\u001b[0m\u001b[1;33m\u001b[0m\u001b[1;33m\u001b[0m\u001b[0m\n\u001b[1;32m----> 4\u001b[1;33m     \u001b[1;32mraise\u001b[0m \u001b[0mException\u001b[0m\u001b[1;33m(\u001b[0m\u001b[1;34m\"Sorry, no numbers below zero\"\u001b[0m\u001b[1;33m)\u001b[0m\u001b[1;33m\u001b[0m\u001b[1;33m\u001b[0m\u001b[0m\n\u001b[0m",
      "\u001b[1;31mException\u001b[0m: Sorry, no numbers below zero"
     ]
    }
   ],
   "source": [
    "x = -1\n",
    "\n",
    "if x < 0:\n",
    "    raise Exception(\"Sorry, no numbers below zero\") # you can see our raised exception"
   ]
  },
  {
   "cell_type": "markdown",
   "metadata": {},
   "source": [
    "### Assertions \n",
    "- The assert keyword helps you find bugs more quickly and with less pain.\n",
    "- The assert keyword lets you test if a condition in your code returns True,the control simply moves to the next line of code.In case if it is False the program stops running and returns AssertionError Exception.\n",
    "- <b>syntax: </b>assert condition, error_message(optional)"
   ]
  },
  {
   "cell_type": "code",
   "execution_count": 37,
   "metadata": {},
   "outputs": [
    {
     "name": "stdout",
     "output_type": "stream",
     "text": [
      "Enter a number: 2\n"
     ]
    },
    {
     "ename": "AssertionError",
     "evalue": "Enter number is less than five",
     "output_type": "error",
     "traceback": [
      "\u001b[1;31m---------------------------------------------------------------------------\u001b[0m",
      "\u001b[1;31mAssertionError\u001b[0m                            Traceback (most recent call last)",
      "\u001b[1;32m<ipython-input-37-db9955ab1fcb>\u001b[0m in \u001b[0;36m<module>\u001b[1;34m\u001b[0m\n\u001b[0;32m      1\u001b[0m \u001b[0mnum\u001b[0m\u001b[1;33m=\u001b[0m\u001b[0mint\u001b[0m\u001b[1;33m(\u001b[0m\u001b[0minput\u001b[0m\u001b[1;33m(\u001b[0m\u001b[1;34m'Enter a number: '\u001b[0m\u001b[1;33m)\u001b[0m\u001b[1;33m)\u001b[0m\u001b[1;33m\u001b[0m\u001b[1;33m\u001b[0m\u001b[0m\n\u001b[1;32m----> 2\u001b[1;33m \u001b[1;32massert\u001b[0m \u001b[0mnum\u001b[0m\u001b[1;33m>=\u001b[0m\u001b[1;36m5\u001b[0m\u001b[1;33m,\u001b[0m\u001b[1;34m\"Enter number is less than five\"\u001b[0m\u001b[1;33m\u001b[0m\u001b[1;33m\u001b[0m\u001b[0m\n\u001b[0m\u001b[0;32m      3\u001b[0m \u001b[0mprint\u001b[0m\u001b[1;33m(\u001b[0m\u001b[1;34m'You entered: '\u001b[0m\u001b[1;33m,\u001b[0m \u001b[0mnum\u001b[0m\u001b[1;33m)\u001b[0m\u001b[1;33m\u001b[0m\u001b[1;33m\u001b[0m\u001b[0m\n",
      "\u001b[1;31mAssertionError\u001b[0m: Enter number is less than five"
     ]
    }
   ],
   "source": [
    "num=int(input('Enter a number: '))\n",
    "assert num>=5,\"Enter number is less than five\"\n",
    "print('You entered: ', num)"
   ]
  }
 ],
 "metadata": {
  "kernelspec": {
   "display_name": "Python 3",
   "language": "python",
   "name": "python3"
  },
  "language_info": {
   "codemirror_mode": {
    "name": "ipython",
    "version": 3
   },
   "file_extension": ".py",
   "mimetype": "text/x-python",
   "name": "python",
   "nbconvert_exporter": "python",
   "pygments_lexer": "ipython3",
   "version": "3.7.6"
  }
 },
 "nbformat": 4,
 "nbformat_minor": 4
}
