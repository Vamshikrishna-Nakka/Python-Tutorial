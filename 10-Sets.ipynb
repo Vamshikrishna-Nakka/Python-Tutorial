{
 "cells": [
  {
   "cell_type": "markdown",
   "metadata": {},
   "source": [
    "# Sets\n",
    "- A set is an unordered collection of items. Every element is unique (no duplicates) and mutable(changeable).\n",
    "- sets are written with curly brackets {} .\n",
    "- Sets can be used to perform mathematical set operations like union, intersection, symmetric difference etc."
   ]
  },
  {
   "cell_type": "code",
   "execution_count": 1,
   "metadata": {},
   "outputs": [
    {
     "name": "stdout",
     "output_type": "stream",
     "text": [
      "{}\n"
     ]
    }
   ],
   "source": [
    "#empty set \n",
    "my={}\n",
    "print(my)"
   ]
  },
  {
   "cell_type": "code",
   "execution_count": 2,
   "metadata": {},
   "outputs": [
    {
     "name": "stdout",
     "output_type": "stream",
     "text": [
      "set()\n"
     ]
    }
   ],
   "source": [
    "#empty set using set constructor\n",
    "print(set())"
   ]
  },
  {
   "cell_type": "code",
   "execution_count": 3,
   "metadata": {},
   "outputs": [
    {
     "name": "stdout",
     "output_type": "stream",
     "text": [
      "{'ks', 'or', 's'}\n"
     ]
    }
   ],
   "source": [
    "# Creating a Set with  the use of a List\n",
    "set1 = set([\"s\", \"or\", \"ks\"])\n",
    "print(set1)"
   ]
  },
  {
   "cell_type": "code",
   "execution_count": 4,
   "metadata": {},
   "outputs": [
    {
     "name": "stdout",
     "output_type": "stream",
     "text": [
      "{1, 3.4, 'Hello'}\n"
     ]
    }
   ],
   "source": [
    "# set with mixed datatypes \n",
    "st1= {1, \"Hello\", 3.4}\n",
    "print(st1)"
   ]
  },
  {
   "cell_type": "code",
   "execution_count": 5,
   "metadata": {},
   "outputs": [],
   "source": [
    "# Deleting a set\n",
    "del st1 "
   ]
  },
  {
   "cell_type": "code",
   "execution_count": 6,
   "metadata": {},
   "outputs": [
    {
     "name": "stdout",
     "output_type": "stream",
     "text": [
      "3\n"
     ]
    }
   ],
   "source": [
    "#length of set\n",
    "st1= {1, \"Hello\", 3.4}\n",
    "print(len(st1))"
   ]
  },
  {
   "cell_type": "code",
   "execution_count": 7,
   "metadata": {},
   "outputs": [
    {
     "name": "stdout",
     "output_type": "stream",
     "text": [
      "{'n', 'k', 'a', 'r', 'i', 'h', 's'}\n"
     ]
    }
   ],
   "source": [
    "#Creating a Set with the use of Constructor\n",
    "String = 'krishna'\n",
    "set2 = set(String)\n",
    "print(set2)"
   ]
  },
  {
   "cell_type": "markdown",
   "metadata": {},
   "source": [
    "Sets are unordered the items has no index.But you can for loop. if a specified value is present in a set,by using in keyword."
   ]
  },
  {
   "cell_type": "code",
   "execution_count": 8,
   "metadata": {},
   "outputs": [
    {
     "name": "stdout",
     "output_type": "stream",
     "text": [
      "1\n",
      "3.4\n",
      "Hello\n"
     ]
    }
   ],
   "source": [
    "st1= {1, \"Hello\", 3.4}\n",
    "for x in st1:\n",
    "    print(x)"
   ]
  },
  {
   "cell_type": "markdown",
   "metadata": {},
   "source": [
    "A set contains only unique elements but at the time of set creation, multiple duplicate   values can also be passed.Order of elements in a set is undefined and is unchangeable."
   ]
  },
  {
   "cell_type": "code",
   "execution_count": 9,
   "metadata": {},
   "outputs": [
    {
     "name": "stdout",
     "output_type": "stream",
     "text": [
      "{1, 2, 3, 4, 5, 6}\n"
     ]
    }
   ],
   "source": [
    "s = set([1, 2, 4, 4, 3, 3, 3, 6, 5])\n",
    "print(s)"
   ]
  },
  {
   "cell_type": "markdown",
   "metadata": {},
   "source": [
    "## Methods"
   ]
  },
  {
   "cell_type": "markdown",
   "metadata": {},
   "source": [
    "1) <b>add()</b> : To add one items to set only one at a time.\n",
    "- Lists cannot be added to a set as elements because Lists are not hashable whereas Tuples can be added because tuples are immutable and hence Hashable"
   ]
  },
  {
   "cell_type": "code",
   "execution_count": 21,
   "metadata": {},
   "outputs": [
    {
     "name": "stdout",
     "output_type": "stream",
     "text": [
      "{2, (6, 7), 6, 8, 'Telephone'}\n"
     ]
    }
   ],
   "source": [
    "set1={2,6,8}\n",
    "set1.add(\"Telephone\")\n",
    "set1.add((6,7)) # Adding elements  of only one tuple to the Set\n",
    "print(set1)"
   ]
  },
  {
   "cell_type": "markdown",
   "metadata": {},
   "source": [
    "2) <b>clear():)</b> To clear all elements from the set but empty set will be present."
   ]
  },
  {
   "cell_type": "code",
   "execution_count": 22,
   "metadata": {},
   "outputs": [
    {
     "name": "stdout",
     "output_type": "stream",
     "text": [
      "set()\n"
     ]
    }
   ],
   "source": [
    "set2={3,6}\n",
    "set2.clear()\n",
    "print(set2)"
   ]
  },
  {
   "cell_type": "markdown",
   "metadata": {},
   "source": [
    "3) <b>copy() )</b> \t:Returns a shallow copy of a set."
   ]
  },
  {
   "cell_type": "code",
   "execution_count": 14,
   "metadata": {},
   "outputs": [
    {
     "name": "stdout",
     "output_type": "stream",
     "text": [
      "{9, 7}\n"
     ]
    }
   ],
   "source": [
    "set1={7,9}\n",
    "set2 = set1.copy()\n",
    "print(set2)"
   ]
  },
  {
   "cell_type": "markdown",
   "metadata": {},
   "source": [
    "4) <b>union(1,2,3...)</b>: Return a set containing the union of sets. Both union() and update() will exclude any duplicate items.\n",
    "- Union is performed using | operator."
   ]
  },
  {
   "cell_type": "code",
   "execution_count": 16,
   "metadata": {},
   "outputs": [
    {
     "name": "stdout",
     "output_type": "stream",
     "text": [
      "{9, 'h', 'u', 7}\n",
      "{9, 'h', 'u', 7}\n"
     ]
    }
   ],
   "source": [
    "set1={7,9}\n",
    "set2={'h','u'}\n",
    "#with function\n",
    "z = set1.union(set2)\n",
    "print(z)\n",
    "#with operator\n",
    "print(set1|set2)"
   ]
  },
  {
   "cell_type": "markdown",
   "metadata": {},
   "source": [
    "5) <b>Update(): )</b>To add more than one item to a set use the update() method.In these lists can add.\n",
    "- update() method that inserts all the items from one set into another"
   ]
  },
  {
   "cell_type": "code",
   "execution_count": 20,
   "metadata": {},
   "outputs": [
    {
     "name": "stdout",
     "output_type": "stream",
     "text": [
      "{4, 5, (6, 7), 10, 11}\n"
     ]
    }
   ],
   "source": [
    "set1 = set([ 4, 5, (6, 7)]) \n",
    "set1.update([10, 11])\n",
    "print(set1)"
   ]
  },
  {
   "cell_type": "markdown",
   "metadata": {},
   "source": [
    "6) <b>Pop() : )</b>Used to remove and return an element from the set, but it removes only the last element of the set.\n",
    "- Sets are unordered, so when using the pop() method, you will not know which item that gets removed."
   ]
  },
  {
   "cell_type": "code",
   "execution_count": 27,
   "metadata": {},
   "outputs": [
    {
     "name": "stdout",
     "output_type": "stream",
     "text": [
      "{2, 3}\n"
     ]
    }
   ],
   "source": [
    "set1={1,2,3}\n",
    "set1.pop()\n",
    "print(set1)"
   ]
  },
  {
   "cell_type": "markdown",
   "metadata": {},
   "source": [
    "7) <b>remove() or discard(): </b>Elements can be removed from the Set by using built-in remove() function but a KeyError arises if element doesn’t exist in the set. To remove elements from a set without KeyError, use discard(),if the element doesn’t exist in the  set, it remains unchanged."
   ]
  },
  {
   "cell_type": "code",
   "execution_count": 28,
   "metadata": {},
   "outputs": [
    {
     "name": "stdout",
     "output_type": "stream",
     "text": [
      "{1, 3, 4, 5}\n"
     ]
    }
   ],
   "source": [
    "set1={1,2,3,4,5,6}\n",
    "set1.remove(6)#Removes the specified element\n",
    "set1.discard(2) #Remove the specified item\n",
    "print(set1)"
   ]
  },
  {
   "cell_type": "markdown",
   "metadata": {},
   "source": [
    "8) <b>difference() :)</b> Returns the difference of two or more sets as a new set\n",
    "- difference is performed using - operator."
   ]
  },
  {
   "cell_type": "code",
   "execution_count": 38,
   "metadata": {},
   "outputs": [
    {
     "name": "stdout",
     "output_type": "stream",
     "text": [
      "{4, 5.5, 'Telegram', 6}\n",
      "{9, '6', 5, 'Television'}\n",
      "{4, 5.5, 'Telegram', 6}\n",
      "{9, '6', 5, 'Television'}\n"
     ]
    }
   ],
   "source": [
    "x = set([6, 4,8,5.5, \"Telegram\"])\n",
    "y = set([\"6\",\"Television\",5,8,9])\n",
    "# with functions\n",
    "print( x.difference(y) )    #  x - y is equal to the elements present in x but not in y\n",
    "print( y.difference(x) )   #  y - x is equal to the elements present in y but not in x\n",
    "#with operators\n",
    "print(x-y)\n",
    "print(y-x)"
   ]
  },
  {
   "cell_type": "markdown",
   "metadata": {},
   "source": [
    "9) <b>difference_update():)</b> method removes the items that exist in both sets. mean method removes the unwanted items from the original set.\n",
    "- The difference_update() method is different from the difference() method, because the difference() method returns a new set, without the unwanted items, but the difference_update() method removes the unwanted items from the original set"
   ]
  },
  {
   "cell_type": "code",
   "execution_count": 43,
   "metadata": {},
   "outputs": [
    {
     "name": "stdout",
     "output_type": "stream",
     "text": [
      "{'hello', 10}\n"
     ]
    }
   ],
   "source": [
    "x = {\"hello\", 9, 10, \"hi\"}\n",
    "y = {9, \"hi\", 6, \"BeginnersBook\"}\n",
    "x.difference_update(y)    # X-Y\n",
    "print(x)"
   ]
  },
  {
   "cell_type": "markdown",
   "metadata": {},
   "source": [
    "10) <b>Intersection() :)</b> Returns the intersection of two sets as a new set.\n",
    "- intersection is performed using & operator."
   ]
  },
  {
   "cell_type": "code",
   "execution_count": 44,
   "metadata": {},
   "outputs": [
    {
     "name": "stdout",
     "output_type": "stream",
     "text": [
      "{8}\n",
      "{8}\n"
     ]
    }
   ],
   "source": [
    "x = set([6, 4,8,5.5, \"Telegram\"])\n",
    "y = set([\"6\",\"Television\",5,8,9])\n",
    "#function\n",
    "print(x.intersection(y))\n",
    "#operator\n",
    "print(x & y)"
   ]
  },
  {
   "cell_type": "markdown",
   "metadata": {},
   "source": [
    "11) <b>Intersection_update():)</b> Updates the set with the intersection of itself and another."
   ]
  },
  {
   "cell_type": "code",
   "execution_count": 48,
   "metadata": {},
   "outputs": [
    {
     "name": "stdout",
     "output_type": "stream",
     "text": [
      "None\n",
      "{8}\n",
      "{'6', 5, 8, 9, 'Television'}\n"
     ]
    }
   ],
   "source": [
    "x = set([6, 4,8,5.5, \"Telegram\"])\n",
    "y = set([\"6\",\"Television\",5,8,9])\n",
    "print(x.intersection_update(y))\n",
    "print(x)\n",
    "print(y)"
   ]
  },
  {
   "cell_type": "markdown",
   "metadata": {},
   "source": [
    "12) <b>Isdisjoint() :)</b> Returns True if two sets have a null intersection"
   ]
  },
  {
   "cell_type": "code",
   "execution_count": 49,
   "metadata": {},
   "outputs": [
    {
     "name": "stdout",
     "output_type": "stream",
     "text": [
      "False\n"
     ]
    }
   ],
   "source": [
    "x = set([6, 4,8,5.5, \"Telegram\"])\n",
    "y = set([\"6\",\"Television\",5,8,9])\n",
    "print(x.isdisjoint(y))"
   ]
  },
  {
   "cell_type": "markdown",
   "metadata": {},
   "source": [
    "13) <b>issubset(): )</b>Returns True if another set contains this set"
   ]
  },
  {
   "cell_type": "code",
   "execution_count": 50,
   "metadata": {},
   "outputs": [
    {
     "name": "stdout",
     "output_type": "stream",
     "text": [
      "False\n"
     ]
    }
   ],
   "source": [
    "x = set([6, 4,8,5.5, \"Telegram\"])\n",
    "y = set([\"6\",\"Television\",5,8,9])\n",
    "print( x.issubset(y) ) "
   ]
  },
  {
   "cell_type": "markdown",
   "metadata": {},
   "source": [
    "14) <b>issuperset() </b>:Returns True if this set contains another set"
   ]
  },
  {
   "cell_type": "code",
   "execution_count": 51,
   "metadata": {},
   "outputs": [
    {
     "name": "stdout",
     "output_type": "stream",
     "text": [
      "False\n"
     ]
    }
   ],
   "source": [
    "x = set([6, 4,8,5.5, \"Telegram\"])\n",
    "y = set([\"6\",\"Television\",5,8,9])\n",
    "print( x.issuperset(y) )"
   ]
  },
  {
   "cell_type": "markdown",
   "metadata": {},
   "source": [
    "15) <b>symmetric_difference():)</b> Returns a set with the symmetric differences of two sets. i.e, opposite of intersection "
   ]
  },
  {
   "cell_type": "code",
   "execution_count": 52,
   "metadata": {},
   "outputs": [
    {
     "name": "stdout",
     "output_type": "stream",
     "text": [
      "{4, 5, 5.5, 6, 9, '6', 'Telegram', 'Television'}\n",
      "{4, 5, 5.5, 6, 9, '6', 'Telegram', 'Television'}\n"
     ]
    }
   ],
   "source": [
    "x = set([6, 4,8,5.5, \"Telegram\"])\n",
    "y = set([\"6\",\"Television\",5,8,9])\n",
    "print(x.symmetric_difference(y))\n",
    "print(x ^ y)"
   ]
  },
  {
   "cell_type": "markdown",
   "metadata": {},
   "source": [
    "16) <b>symmetric_difference_update():)</b> Updates a set with the symmetric difference of itself and another\n",
    "- The symmetric difference of two sets A and B is the set of elements that are in either A or B, but not in their intersection.\n",
    "- returns None (returns nothing). Rather, it updates the set calling it."
   ]
  },
  {
   "cell_type": "code",
   "execution_count": 55,
   "metadata": {},
   "outputs": [
    {
     "name": "stdout",
     "output_type": "stream",
     "text": [
      "None\n",
      "{4, 5.5, 'Telegram', 6, '6', 5, 9, 'Television'}\n"
     ]
    }
   ],
   "source": [
    "x = set([6, 4,8,5.5, \"Telegram\"])\n",
    "y = set([\"6\",\"Television\",5,8,9])\n",
    "print(x.symmetric_difference_update(y))\n",
    "print(x)"
   ]
  }
 ],
 "metadata": {
  "kernelspec": {
   "display_name": "Python 3",
   "language": "python",
   "name": "python3"
  },
  "language_info": {
   "codemirror_mode": {
    "name": "ipython",
    "version": 3
   },
   "file_extension": ".py",
   "mimetype": "text/x-python",
   "name": "python",
   "nbconvert_exporter": "python",
   "pygments_lexer": "ipython3",
   "version": "3.7.6"
  }
 },
 "nbformat": 4,
 "nbformat_minor": 4
}
