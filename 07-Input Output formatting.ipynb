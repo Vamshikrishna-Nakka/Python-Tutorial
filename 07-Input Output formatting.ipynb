{
 "cells": [
  {
   "cell_type": "markdown",
   "metadata": {},
   "source": [
    "### Input Output"
   ]
  },
  {
   "cell_type": "markdown",
   "metadata": {},
   "source": [
    "##### Single input from user\n",
    "\n",
    "In version2<br>\n",
    "v = raw_input(\"Enter your value: \")<br>\n",
    "print(v)"
   ]
  },
  {
   "cell_type": "code",
   "execution_count": 1,
   "metadata": {},
   "outputs": [
    {
     "name": "stdout",
     "output_type": "stream",
     "text": [
      "Enter your value: 4\n",
      "4\n"
     ]
    }
   ],
   "source": [
    "#In version3\n",
    "i = input(\"Enter your value: \") \n",
    "print(i)"
   ]
  },
  {
   "cell_type": "markdown",
   "metadata": {},
   "source": [
    "###### Multiple inputs from user by 4 ways\n",
    "\n",
    "<b>1) split()</b>\n",
    "\n",
    "<b>syntax:</b>input().split(separator, maxsplit)"
   ]
  },
  {
   "cell_type": "code",
   "execution_count": 5,
   "metadata": {},
   "outputs": [
    {
     "name": "stdout",
     "output_type": "stream",
     "text": [
      "enter 5.8 9\n"
     ]
    },
    {
     "data": {
      "text/plain": [
       "['5.8', '9']"
      ]
     },
     "execution_count": 5,
     "metadata": {},
     "output_type": "execute_result"
    }
   ],
   "source": [
    "#we can specify any items with whitespace sep or any\n",
    "input('enter ').split()"
   ]
  },
  {
   "cell_type": "code",
   "execution_count": 10,
   "metadata": {},
   "outputs": [
    {
     "name": "stdout",
     "output_type": "stream",
     "text": [
      "Enter Hello,World\n"
     ]
    }
   ],
   "source": [
    "#we can specify required items with comma sep or any\n",
    "a,b=input(\"Enter \").split(',')"
   ]
  },
  {
   "cell_type": "markdown",
   "metadata": {},
   "source": [
    "<b>2) input()</b>"
   ]
  },
  {
   "cell_type": "code",
   "execution_count": 11,
   "metadata": {},
   "outputs": [
    {
     "name": "stdout",
     "output_type": "stream",
     "text": [
      "First Name: Vamshikrishna\n",
      "Last Name: Nakka\n"
     ]
    }
   ],
   "source": [
    "#we can give any values with multiple input function\n",
    "x, y = input(\"First Name: \"), input(\"Last Name: \")"
   ]
  },
  {
   "cell_type": "markdown",
   "metadata": {},
   "source": [
    "<b>3) Map()</b>\n",
    "\n",
    "  <b>syntax:</b> map(fun, iter)<br>\n",
    "            fun : It is a function to which map passes each element of given iterable.<br>\n",
    "            iter : It is a iterable which is to be mapped."
   ]
  },
  {
   "cell_type": "code",
   "execution_count": 26,
   "metadata": {},
   "outputs": [
    {
     "name": "stdout",
     "output_type": "stream",
     "text": [
      "Enter two values: 1 5\n"
     ]
    }
   ],
   "source": [
    "x, y = map(int, input(\"Enter two values: \").split())"
   ]
  },
  {
   "cell_type": "markdown",
   "metadata": {},
   "source": [
    "<b>4) List Comprehension:</b>"
   ]
  },
  {
   "cell_type": "code",
   "execution_count": 25,
   "metadata": {},
   "outputs": [
    {
     "name": "stdout",
     "output_type": "stream",
     "text": [
      "Enter three value: 5 6 8\n",
      "Enter multiple value: 8 6 9\n",
      "Number of list is:  [8, 6, 9]\n"
     ]
    }
   ],
   "source": [
    "# taking three input at a time \n",
    "x, y, z = [int(x) for x in input(\"Enter three value: \").split()] \n",
    "# taking multiple inputs at a time  \n",
    "x = [int(x) for x in input(\"Enter multiple value: \").split()] \n",
    "print(\"Number of list is: \", x)"
   ]
  },
  {
   "cell_type": "markdown",
   "metadata": {},
   "source": [
    "### Value conversion:\n",
    "By default input from prompt takes as string we need to convert to required from any format"
   ]
  },
  {
   "cell_type": "code",
   "execution_count": null,
   "metadata": {},
   "outputs": [],
   "source": [
    "#Converts x to an integer\n",
    "int(x)\n",
    "#Converts x to a long integer\n",
    "long(x)\n",
    "#Converts x to a floating point number\n",
    "float(x)\n",
    "#Converts x to a complex number of a+bj format\n",
    "complex(x)\n",
    "#Converts x to an string. x can be of the type float. integer or long.\n",
    "str(x)\n",
    "#Converts x integer to a hexadecimal string\n",
    "hex(x)\n",
    "#Converts x integer to a character\n",
    "chr(x)\n",
    "#Converts character x to an integer\n",
    "ord(x)"
   ]
  },
  {
   "cell_type": "markdown",
   "metadata": {},
   "source": [
    "### Output formatting"
   ]
  },
  {
   "cell_type": "markdown",
   "metadata": {},
   "source": [
    "### 1) Using String modulo operator(%) :\n",
    "\n",
    " Here are some basic argument specifiers you should know:\n",
    " \n",
    "    %s                    - String (or any object with a string representation, like numbers)\n",
    "    %d or %i              - Integers\n",
    "    %f                    - Floating point numbers\n",
    "    %.<number of digits>f - Floating point numbers with a fixed amount of digits to the right of the dot.\n",
    "    %x / %X               - Integers in hex representation (lowercase/uppercase)\n",
    "    %[flags][width][.precision]type -The general syntax for a format placeholder like “%2d” and “%5.2f”."
   ]
  },
  {
   "cell_type": "code",
   "execution_count": 31,
   "metadata": {},
   "outputs": [
    {
     "name": "stdout",
     "output_type": "stream",
     "text": [
      "Hello, John!\n"
     ]
    }
   ],
   "source": [
    "m = \"John\"\n",
    "print(\"Hello, %s!\" % m)"
   ]
  },
  {
   "cell_type": "code",
   "execution_count": 30,
   "metadata": {},
   "outputs": [
    {
     "name": "stdout",
     "output_type": "stream",
     "text": [
      "John is 23 years old.\n"
     ]
    }
   ],
   "source": [
    "#two or more formatting\n",
    "name = \"John\";age = 23\n",
    "print(\"%s is %d years old.\" % (name, age))"
   ]
  },
  {
   "cell_type": "code",
   "execution_count": 33,
   "metadata": {},
   "outputs": [
    {
     "name": "stdout",
     "output_type": "stream",
     "text": [
      "Hello John Doe. Your current balance is $53.44.\n"
     ]
    }
   ],
   "source": [
    "#another way for printing group of data\n",
    "data = (\"John\", \"Doe\", 53.44)\n",
    "format_string = \"Hello %s %s. Your current balance is $%s.\"\n",
    "print(format_string % data)"
   ]
  },
  {
   "cell_type": "code",
   "execution_count": 35,
   "metadata": {},
   "outputs": [
    {
     "name": "stdout",
     "output_type": "stream",
     "text": [
      "A list: [1, 2, 3]\n"
     ]
    }
   ],
   "source": [
    "# object formmating\n",
    "mylist = [1,2,3]\n",
    "print(\"A list: %s\" % mylist)"
   ]
  },
  {
   "cell_type": "code",
   "execution_count": 36,
   "metadata": {},
   "outputs": [
    {
     "name": "stdout",
     "output_type": "stream",
     "text": [
      "Ecodifier :  1, Portal :  5.33\n"
     ]
    }
   ],
   "source": [
    "# print integer and float value \n",
    "print(\"Ecodifier : % 2d, Portal : % 5.2f\" %(1, 05.333))"
   ]
  },
  {
   "cell_type": "code",
   "execution_count": 37,
   "metadata": {},
   "outputs": [
    {
     "name": "stdout",
     "output_type": "stream",
     "text": [
      "Total students :  240, Boys :  120\n"
     ]
    }
   ],
   "source": [
    "# print integer value \n",
    "print(\"Total students : % 3d, Boys : % 2d\" %(240, 120))"
   ]
  },
  {
   "cell_type": "code",
   "execution_count": 42,
   "metadata": {},
   "outputs": [
    {
     "name": "stdout",
     "output_type": "stream",
     "text": [
      "    031\n"
     ]
    }
   ],
   "source": [
    "# print octal value \n",
    "print(\"% 7.3o\"% (25)) "
   ]
  },
  {
   "cell_type": "code",
   "execution_count": 43,
   "metadata": {},
   "outputs": [
    {
     "name": "stdout",
     "output_type": "stream",
     "text": [
      " 3.561E+02\n"
     ]
    }
   ],
   "source": [
    "# print exponential value \n",
    "print(\"% 10.3E\"% (356.08977))"
   ]
  },
  {
   "cell_type": "markdown",
   "metadata": {},
   "source": [
    "### 2) Using format method :"
   ]
  },
  {
   "cell_type": "code",
   "execution_count": 44,
   "metadata": {},
   "outputs": [
    {
     "name": "stdout",
     "output_type": "stream",
     "text": [
      "First number is Hello and second number is World\n",
      "I love Krishna for \"Nakka!\"\n"
     ]
    }
   ],
   "source": [
    "# using format() method \n",
    "print(\"First number is {} and second number is {}\".format(a, b)) \n",
    "print('I love {} for \"{}!\"'.format('Krishna', 'Nakka'))"
   ]
  },
  {
   "cell_type": "code",
   "execution_count": 45,
   "metadata": {},
   "outputs": [
    {
     "name": "stdout",
     "output_type": "stream",
     "text": [
      "Nakka and Krishna\n",
      "Number one portal is For, Geeks\n"
     ]
    }
   ],
   "source": [
    "# using format() method and referring a position of the object\n",
    "print('{1} and {0}'.format('Krishna', 'Nakka'))\n",
    "print('Number one portal is {q}, {p}'.format(p='Geeks',q= 'For'))"
   ]
  },
  {
   "cell_type": "code",
   "execution_count": 46,
   "metadata": {},
   "outputs": [
    {
     "name": "stdout",
     "output_type": "stream",
     "text": [
      "Number one portal is Geeks, For, and Geeks.\n"
     ]
    }
   ],
   "source": [
    "# combining positional and keyword arguments \n",
    "print('Number one portal is {0}, {1}, and {other}.'.format('Geeks', 'For', other ='Geeks'))"
   ]
  },
  {
   "cell_type": "code",
   "execution_count": 48,
   "metadata": {},
   "outputs": [
    {
     "name": "stdout",
     "output_type": "stream",
     "text": [
      "Krishna :12, Portal :    0.55\n"
     ]
    }
   ],
   "source": [
    "# using format() method with number  \n",
    "print(\"Krishna :{s:2d}, Portal :{r:8.2f}\".format(s=12,r= 00.546))#  8.2f mean 8length before dot but priints white space and 2 precision after dot"
   ]
  },
  {
   "cell_type": "code",
   "execution_count": 49,
   "metadata": {},
   "outputs": [
    {
     "name": "stdout",
     "output_type": "stream",
     "text": [
      "Second argument:  11, first one:   47.42\n",
      "Geeks:   453,  Portal:    59.06\n"
     ]
    }
   ],
   "source": [
    "# Changing positional argument \n",
    "print(\"Second argument: {1:3d}, first one: {0:7.2f}\".format(47.42, 11)) \n",
    "print(\"Geeks: {a:5d},  Portal: {p:8.2f}\".format(a = 453, p = 59.058)) "
   ]
  },
  {
   "cell_type": "code",
   "execution_count": 50,
   "metadata": {},
   "outputs": [
    {
     "name": "stdout",
     "output_type": "stream",
     "text": [
      "Geeks: 4127; For: 4098;Geeks: 8637678\n"
     ]
    }
   ],
   "source": [
    "# using format() in dictionary \n",
    "tab = {'geeks': 4127, 'for': 4098, 'geek': 8637678}\n",
    "print('Geeks: {0[geeks]:d}; For: {0[for]:d};' 'Geeks: {0[geek]:d}'.format(tab))"
   ]
  },
  {
   "cell_type": "code",
   "execution_count": 51,
   "metadata": {},
   "outputs": [
    {
     "name": "stdout",
     "output_type": "stream",
     "text": [
      "I love GeeksForGeeks computer Portal\n"
     ]
    }
   ],
   "source": [
    "# using format() in dictionary \n",
    "data = dict(fun =\"GeeksForGeeks\", adj =\"Portal\")\n",
    "print(\"I love {fun} computer {adj}\".format(**data))"
   ]
  },
  {
   "cell_type": "code",
   "execution_count": 52,
   "metadata": {},
   "outputs": [
    {
     "name": "stdout",
     "output_type": "stream",
     "text": [
      "I love GeeksForGeeks computer Portal\n"
     ]
    }
   ],
   "source": [
    "#we can or write as\n",
    "a=\"I love {fun} computer {adj}\"\n",
    "print(a.format(**data))"
   ]
  },
  {
   "cell_type": "code",
   "execution_count": 54,
   "metadata": {},
   "outputs": [
    {
     "name": "stdout",
     "output_type": "stream",
     "text": [
      "Hello,god is 19\n"
     ]
    }
   ],
   "source": [
    "# using f-string instead of format function\n",
    "n=19 ;s='god'\n",
    "print(f'Hello,{s} is {n}')  # but it works only version above 3.7"
   ]
  },
  {
   "cell_type": "markdown",
   "metadata": {},
   "source": [
    "### 3) Using String method :\n",
    "Output is formatted by using string slicing and concatenation operations. The string type has some methods that help in\n",
    "    formatting a output in an fancier way."
   ]
  },
  {
   "cell_type": "code",
   "execution_count": 63,
   "metadata": {},
   "outputs": [
    {
     "name": "stdout",
     "output_type": "stream",
     "text": [
      "Center aligned string with fillchr: \n",
      "##########I love vamshikrishna##########\n"
     ]
    }
   ],
   "source": [
    "cstr = \"I love vamshikrishna\"\n",
    "# Printing the center aligned  and string with fillchr  \n",
    "print (\"Center aligned string with fillchr: \")  \n",
    "print (cstr.center(40, '#'))"
   ]
  },
  {
   "cell_type": "code",
   "execution_count": 64,
   "metadata": {},
   "outputs": [
    {
     "name": "stdout",
     "output_type": "stream",
     "text": [
      "The left aligned string is : \n",
      "I love vamshikrishna--------------------\n"
     ]
    }
   ],
   "source": [
    "# Printing the left aligned and string with \"-\" padding   \n",
    "print (\"The left aligned string is : \")  \n",
    "print (cstr.ljust(40, '-'))"
   ]
  },
  {
   "cell_type": "code",
   "execution_count": 65,
   "metadata": {},
   "outputs": [
    {
     "name": "stdout",
     "output_type": "stream",
     "text": [
      "The right aligned string is : \n",
      "--------------------I love vamshikrishna\n"
     ]
    }
   ],
   "source": [
    " # Printing the right aligned and string  with \"-\" padding   \n",
    "print (\"The right aligned string is : \")  \n",
    "print (cstr.rjust(40, '-'))"
   ]
  }
 ],
 "metadata": {
  "kernelspec": {
   "display_name": "Python 3",
   "language": "python",
   "name": "python3"
  },
  "language_info": {
   "codemirror_mode": {
    "name": "ipython",
    "version": 3
   },
   "file_extension": ".py",
   "mimetype": "text/x-python",
   "name": "python",
   "nbconvert_exporter": "python",
   "pygments_lexer": "ipython3",
   "version": "3.7.6"
  }
 },
 "nbformat": 4,
 "nbformat_minor": 4
}
