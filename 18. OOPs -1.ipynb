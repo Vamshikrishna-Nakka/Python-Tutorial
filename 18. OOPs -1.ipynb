{
 "cells": [
  {
   "cell_type": "markdown",
   "metadata": {},
   "source": [
    "### Object-oriented programming"
   ]
  },
  {
   "cell_type": "markdown",
   "metadata": {},
   "source": [
    "- Python is a programming language which uses object-oriented programming paradigm.\n",
    "- Every thing in this language is a objects"
   ]
  },
  {
   "cell_type": "markdown",
   "metadata": {},
   "source": [
    "#### Object:\n",
    "- An object is an entity that has attributes(variables) and behaviour(methods)\n",
    "- Objects are an instance of a class.\n",
    "- For example: krishna is an object who has attributes such as height, weight, color etc. and has certain behaviours such as walking, talking, eating etc.\n",
    "- syntax:  obj = class1()\n",
    "\n",
    "#### Class:\n",
    "- A class is a blueprint for the objects.\n",
    "- For example : Ram, Shyam, Steve, Rick are all objects so we can define a template (blueprint) class Human for these objects. The class can define the common attributes and behaviours of all the objects.\n",
    "- syntax: class computer:\n",
    "\n",
    "#### Methods:\n",
    "- As we discussed above, an object has attributes and behaviours. These behaviours are called methods in programming.\n",
    "- functions that works with objects we call it as Methods."
   ]
  },
  {
   "cell_type": "markdown",
   "metadata": {},
   "source": [
    "Examples:"
   ]
  },
  {
   "cell_type": "code",
   "execution_count": 14,
   "metadata": {},
   "outputs": [
    {
     "name": "stdout",
     "output_type": "stream",
     "text": [
      "<class 'int'>\n",
      "<class 'str'>\n",
      "<class '__main__.computer'>\n",
      "i5, 16gb, 1TB\n",
      "i5, 16gb, 1TB\n",
      "i5, 16gb, 1TB\n",
      "i5, 16gb, 1TB\n"
     ]
    }
   ],
   "source": [
    "class computer:\n",
    "    \n",
    "    def config(self):\n",
    "        print(\"i5, 16gb, 1TB\")\n",
    "\n",
    "x = 9\n",
    "print(type(x))  # type of x is an object of class which is inbuilt class(object)\n",
    "\n",
    "\n",
    "a = '8'\n",
    "print(type(a))\n",
    "\n",
    "#object creation\n",
    "com1 = computer()  # like computer() is constructor \n",
    "com2 = computer()  # com1,com2 are referencee variables\n",
    "\n",
    "print(type(com1)) # but this our class --which is created computer class\n",
    "\n",
    "\n",
    "# object calling\n",
    "\n",
    "computer.config(com1) #call method because it is in class we call with class name\n",
    "                       #comp1 is because with which object you are calling\n",
    "computer.config(com2)\n",
    "\n",
    "\n",
    "com1.config()   # from above you can see this differece because when this computer.config(com1) executes the com1 takes as\n",
    "                # as parameter and passes to function that is why there is self as parameter available\n",
    "com2.config()   #this is the most usage one rather than above "
   ]
  },
  {
   "cell_type": "markdown",
   "metadata": {},
   "source": [
    "# __init__ method\n",
    "\n",
    "- The __init__ method is similar to constructors in C++ and Java. Constructors are used to initialize the object’s state. The task of constructors is to initialize(assign values) to the data members of the class when an object of class is created. Like methods, a constructor also contains collection of statements(i.e. instructions) that are executed at time of Object creation. It is run as soon as an object of a class is instantiated. The method is useful to do any initialization you want to do with your object.\n",
    "- The keyword self represents the instance of a class and binds the attributes with the given arguments.\n",
    "- When we are creating an object it automatically  calls init(as default contructor in java) when it passed with values then that time also call init with parameters (as parameterized constructor in java) below we can see."
   ]
  },
  {
   "cell_type": "code",
   "execution_count": 25,
   "metadata": {},
   "outputs": [
    {
     "name": "stdout",
     "output_type": "stream",
     "text": [
      "specifications i5 16\n",
      "specifications ryzen3 8\n"
     ]
    }
   ],
   "source": [
    "class computer:\n",
    "    \n",
    "    def __init__(self,cpu,ram):\n",
    "        self.cpu=cpu   #self is an instance of a class\n",
    "        self.ram=ram   #converting values to object variables\n",
    "        \n",
    "    def config(self):\n",
    "        print(\"specifications\",self.cpu,self.ram)  #passing those values\n",
    "        \n",
    "        \n",
    "com1 = computer(\"i5\",16)\n",
    "com2 = computer(\"ryzen3\",8)\n",
    "\n",
    "\n",
    "com1.config()\n",
    "com2.config()"
   ]
  },
  {
   "cell_type": "code",
   "execution_count": 22,
   "metadata": {},
   "outputs": [
    {
     "name": "stdout",
     "output_type": "stream",
     "text": [
      "A init called\n",
      "B init called\n"
     ]
    }
   ],
   "source": [
    "#__init__ with inheritance\n",
    "\n",
    "class A(object): \n",
    "    def __init__(self, something): \n",
    "        print(\"A init called\") \n",
    "        self.something = something \n",
    "          \n",
    "class B(A): \n",
    "    def __init__(self, something): \n",
    "        # Calling init of parent class \n",
    "        A.__init__(self, something) \n",
    "        print(\"B init called\") \n",
    "        self.something = something \n",
    "          \n",
    "obj = B(\"Something\")"
   ]
  },
  {
   "cell_type": "code",
   "execution_count": 52,
   "metadata": {},
   "outputs": [
    {
     "name": "stdout",
     "output_type": "stream",
     "text": [
      "{'name': 'harshit', 'age': 22, 'salary': 1234, 'id': 1000}\n"
     ]
    }
   ],
   "source": [
    "class employee():\n",
    "    def __init__(self,name,age,id,salary):  #creating a function\n",
    "        self.name = name # self is an instance of a class\n",
    "        self.age = age\n",
    "        self.salary = salary\n",
    "        self.id = id\n",
    " \n",
    "emp1 = employee(\"harshit\",22,1000,1234) #creating objects\n",
    "emp2 = employee(\"arjun\",23,2000,2234)\n",
    "print(emp1.__dict__) #Prints as dictionary"
   ]
  },
  {
   "cell_type": "markdown",
   "metadata": {},
   "source": [
    "### Constructor,Self\n",
    "- Self is a pointer which directs which object you are refering\n",
    "- self is an instance of a class"
   ]
  },
  {
   "cell_type": "code",
   "execution_count": 49,
   "metadata": {},
   "outputs": [
    {
     "name": "stdout",
     "output_type": "stream",
     "text": [
      "1920259800648\n",
      "1920259798024\n"
     ]
    }
   ],
   "source": [
    "class Hello:\n",
    "    pass\n",
    "\n",
    "c1=Hello()\n",
    "print(id(c1))      #this is the address of c1 object which is stored in heap memory\n",
    "                   # All the objects are stored in heap memory\n",
    "c2=Hello()        # the both the address are different which are stored in heap memory\n",
    "print(id(c2))  \n",
    "    \n",
    "                 # Q:  Size of memory it will take for each object?\n",
    "                 # A:  it is depends upon the no.of varibales and size of varibales\n",
    "             \n",
    "                 # Q:  But who is reponsibele to allocates the size?\n",
    "                 # A:  Constructor\n",
    "            \n",
    "               # this Hello() is a constructor which will call the init method \n",
    "               # we no need to call explicitly it will call internally"
   ]
  },
  {
   "cell_type": "code",
   "execution_count": 35,
   "metadata": {},
   "outputs": [
    {
     "name": "stdout",
     "output_type": "stream",
     "text": [
      "Hi krishna\n",
      "Hello Nakka\n"
     ]
    }
   ],
   "source": [
    "class Computer:\n",
    " \n",
    "    def __init__(self):         \n",
    "        self.name = \"Hi krishna\"      # the values with in this method is equal to all the objects \n",
    "        self.age = 28\n",
    "\n",
    "c1 = Computer()\n",
    "c2 = Computer()\n",
    " \n",
    "c2.name='Hello Nakka'     # this is for changing(overriding) the values for c2 object in init method \n",
    "\n",
    "print(c1.name)\n",
    "print(c2.name)"
   ]
  },
  {
   "cell_type": "code",
   "execution_count": 48,
   "metadata": {},
   "outputs": [
    {
     "name": "stdout",
     "output_type": "stream",
     "text": [
      "They are same\n"
     ]
    }
   ],
   "source": [
    "class Computer:\n",
    "\n",
    "    def __init__(self):\n",
    "        self.name = \"krishna\"\n",
    "        self.age = 15\n",
    "\n",
    "    def update(self):\n",
    "        self.age=15\n",
    "            \n",
    "    def compare(self,other):    #c1 is self and c2 is other\n",
    "        if self.age == other.age:\n",
    "            return True\n",
    "        else:\n",
    "            return False\n",
    "\n",
    "c1 = Computer()\n",
    "c2 = Computer()\n",
    "\n",
    "\n",
    "c1.update()   # c1.age = 15\n",
    "              # with function and without fun\n",
    "\n",
    "if c1.compare(c2):   #compare is a method for comparing onject ages\n",
    "    print(\"They are same\")\n",
    "else:\n",
    "    print(\"They are different\")"
   ]
  },
  {
   "cell_type": "markdown",
   "metadata": {},
   "source": [
    "### Types of Variables and methods"
   ]
  },
  {
   "cell_type": "markdown",
   "metadata": {},
   "source": [
    "### Variables"
   ]
  },
  {
   "cell_type": "code",
   "execution_count": 55,
   "metadata": {},
   "outputs": [
    {
     "name": "stdout",
     "output_type": "stream",
     "text": [
      "BMW 8 5\n",
      "BMW 10 5\n"
     ]
    }
   ],
   "source": [
    "              # namespace is the area where you create and store object/variable\n",
    "              # if it created in instance variable -- instance namespace\n",
    "              # if it created in class variable   ---- class namespace\n",
    "class Car: \n",
    "    wheels = 4    # class/static variables\n",
    "    \n",
    "    def __init__(self):\n",
    "        self.mil = 10     #instance varibale\n",
    "        self.com = \"BMW\"\n",
    "\n",
    "c1 = Car()\n",
    "c2 = Car()\n",
    "\n",
    "c1.mil = 8\n",
    "Car.wheels = 5\n",
    "\n",
    "print(c1.com , c1.mil , c1.wheels)\n",
    "print(c2.com , c2.mil , c2.wheels)"
   ]
  },
  {
   "cell_type": "markdown",
   "metadata": {},
   "source": [
    "### Methods"
   ]
  },
  {
   "cell_type": "code",
   "execution_count": 5,
   "metadata": {},
   "outputs": [
    {
     "name": "stdout",
     "output_type": "stream",
     "text": [
      "37.666666666666664\n",
      "44.333333333333336\n"
     ]
    }
   ],
   "source": [
    "# 1.instance methods--The method which is written inside class\n",
    "    \n",
    "class Student:\n",
    "\n",
    "    def __init__(self,m1,m2,m3):\n",
    "        self.m1 = m1\n",
    "        self.m2 = m2\n",
    "        self.m3 = m3\n",
    "\n",
    "    def avg(self):                                 # instance method\n",
    "        return (self.m1 + self.m2 + self.m3)/3 \n",
    " \n",
    "s1  = Student(34,47,32)\n",
    "s2 = Student(89,32,12)\n",
    "\n",
    "print(s1.avg())\n",
    "print(s2.avg())"
   ]
  },
  {
   "cell_type": "markdown",
   "metadata": {},
   "source": [
    "- Best way for instance methods are Setters(mutators) and Getters(Accessors)\n",
    "- main reason for this is security \n",
    "- no. of setter and getter methods always equal to instance variables\n",
    "- Hiding the data behind the methods is called Encapsulation. These setters and getters acheives encapsulation"
   ]
  },
  {
   "cell_type": "code",
   "execution_count": 19,
   "metadata": {},
   "outputs": [
    {
     "name": "stdout",
     "output_type": "stream",
     "text": [
      "Enter the Nameg\n",
      "Enter valueg\n"
     ]
    },
    {
     "ename": "ValueError",
     "evalue": "invalid literal for int() with base 10: 'g'",
     "output_type": "error",
     "traceback": [
      "\u001b[1;31m---------------------------------------------------------------------------\u001b[0m",
      "\u001b[1;31mValueError\u001b[0m                                Traceback (most recent call last)",
      "\u001b[1;32m<ipython-input-19-d2906546a693>\u001b[0m in \u001b[0;36m<module>\u001b[1;34m\u001b[0m\n\u001b[0;32m     18\u001b[0m \u001b[1;33m\u001b[0m\u001b[0m\n\u001b[0;32m     19\u001b[0m \u001b[0mname\u001b[0m\u001b[1;33m=\u001b[0m\u001b[0minput\u001b[0m\u001b[1;33m(\u001b[0m\u001b[1;34m\"Enter the Name\"\u001b[0m\u001b[1;33m)\u001b[0m\u001b[1;33m\u001b[0m\u001b[1;33m\u001b[0m\u001b[0m\n\u001b[1;32m---> 20\u001b[1;33m \u001b[0mvalue\u001b[0m\u001b[1;33m=\u001b[0m\u001b[0mint\u001b[0m\u001b[1;33m(\u001b[0m\u001b[0minput\u001b[0m\u001b[1;33m(\u001b[0m\u001b[1;34m\"Enter value\"\u001b[0m\u001b[1;33m)\u001b[0m\u001b[1;33m)\u001b[0m\u001b[1;33m\u001b[0m\u001b[1;33m\u001b[0m\u001b[0m\n\u001b[0m\u001b[0;32m     21\u001b[0m \u001b[0ms\u001b[0m \u001b[1;33m=\u001b[0m \u001b[0mStudent\u001b[0m\u001b[1;33m(\u001b[0m\u001b[1;33m)\u001b[0m\u001b[1;33m\u001b[0m\u001b[1;33m\u001b[0m\u001b[0m\n\u001b[0;32m     22\u001b[0m \u001b[0ms\u001b[0m\u001b[1;33m.\u001b[0m\u001b[0msetValue\u001b[0m\u001b[1;33m(\u001b[0m\u001b[0mvalue\u001b[0m\u001b[1;33m)\u001b[0m   \u001b[1;31m#equal to s=Student(15) if 15 passing value\u001b[0m\u001b[1;33m\u001b[0m\u001b[1;33m\u001b[0m\u001b[0m\n",
      "\u001b[1;31mValueError\u001b[0m: invalid literal for int() with base 10: 'g'"
     ]
    }
   ],
   "source": [
    "# Get methods are not a built in methods we can give any name with getxxxx \n",
    " # examples:  get_1(),getMarks\n",
    "# These setters and getters are most  used in real time programming \n",
    "\n",
    "class Student:\n",
    "    \n",
    "    def getValue(self):                  #Accessors(only for accessing)\n",
    "        return self.value\n",
    "\n",
    "    def setValue(self,value):           #mutators(for modifying)\n",
    "        self.value = value\n",
    "        \n",
    "    def getName(self):                  \n",
    "        return self.name\n",
    "\n",
    "    def setName(self,value):           \n",
    "        self.name = name   \n",
    "        \n",
    "name=input(\"Enter the Name\")\n",
    "value=int(input(\"Enter value\"))\n",
    "s = Student()\n",
    "s.setValue(value)   #equal to s=Student(15) if 15 passing value\n",
    "s.setName(name)\n",
    "\n",
    "print('Hi',s.getName())               # get should be written in print statement if not only last get method prints\n",
    "print('Mynumber is',s.getValue())\n",
    "\n",
    "\n",
    "\n",
    "#print(s.name)   --- Direct accessing the value\n",
    "#print(s.getName()) # this will trigger to method defination and there it validates. withthat it increses security and \n",
    "                    # acheives encapsultion"
   ]
  },
  {
   "cell_type": "markdown",
   "metadata": {},
   "source": [
    "- A class method takes cls as first parameter while a static method needs no specific parameters.\n",
    "- A class method can access or modify class state while a static method can’t access or modify it.\n",
    "- In general, static methods know nothing about class state. They are utility type methods that take some parameters and work upon those parameters. On the other hand class methods must have class as parameter.\n",
    "- We use @classmethod decorator in python to create a class method and we use @staticmethod decorator to create a static method in python."
   ]
  },
  {
   "cell_type": "code",
   "execution_count": 2,
   "metadata": {},
   "outputs": [
    {
     "name": "stdout",
     "output_type": "stream",
     "text": [
      "Nakka\n",
      "This is method used when nothing to do with class and instance variables we use this method\n"
     ]
    }
   ],
   "source": [
    "# 2.class methods\n",
    "# 3.static methods           In methods --- static methods and class methods are different unlike varibales(class,static)\n",
    "    \n",
    "class Student:\n",
    "\n",
    "    school = 'Nakka'\n",
    "    \n",
    "    @classmethod             #decorator\n",
    "    def getSchool(cls): # when we are working with instance methods we use self as parameter but for class methods its cls\n",
    "        return cls.school\n",
    "\n",
    "    @staticmethod\n",
    "    def info():       #becoz of nothing to do ith instance and class e wont use cls or self\n",
    "        print(\"This is method used when nothing to do with class and instance variables we use this method\")\n",
    "\n",
    "print(Student.getSchool())    #calling with class name not with object\n",
    "Student.info()"
   ]
  },
  {
   "cell_type": "markdown",
   "metadata": {},
   "source": [
    "#### Decorators\n",
    "- Python has an interesting feature called decorators to add functionality to an existing code.\n",
    "- This is also called metaprogramming because a part of the program tries to modify another part of the program at compile time."
   ]
  },
  {
   "cell_type": "code",
   "execution_count": null,
   "metadata": {},
   "outputs": [],
   "source": []
  }
 ],
 "metadata": {
  "kernelspec": {
   "display_name": "Python 3",
   "language": "python",
   "name": "python3"
  },
  "language_info": {
   "codemirror_mode": {
    "name": "ipython",
    "version": 3
   },
   "file_extension": ".py",
   "mimetype": "text/x-python",
   "name": "python",
   "nbconvert_exporter": "python",
   "pygments_lexer": "ipython3",
   "version": "3.7.6"
  }
 },
 "nbformat": 4,
 "nbformat_minor": 4
}
