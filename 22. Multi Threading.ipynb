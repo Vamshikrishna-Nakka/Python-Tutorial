{
 "cells": [
  {
   "cell_type": "markdown",
   "metadata": {},
   "source": [
    "#### Multitasking\n",
    "- Multitasking, in general, is the capability of performing multiple tasks simultaneously. In technical terms, multitasking refers to the ability of an operating system to perform different tasks at the same time. For instance, you are downloading something on your PC as well as listening to songs and concurrently playing a game, etc. All these tasks are performed by the same OS an in sync. This is nothing but multitasking which not just helps you save time but also increases productivity.\n",
    "\n",
    "- There are two types of multitasking in an OS:\n",
    "\n",
    " - Process-based\n",
    " - Thread-based\n",
    "\n",
    "- In this we will be learning about Thread-based multitasking or Multithreading.\n",
    "\n",
    "### Thread\n",
    "- A thread is basically an independent flow of execution. A single process can consist of multiple threads. Each thread in a program performs a particular task.\n",
    "- Example, when you are playing a game say Pubg on your PC, the game as a whole is a single process, but it consists of several threads responsible for playing the music, taking input from the user, running the opponent synchronously, etc. All these are separate threads responsible for carrying out these different tasks in the same program.\n",
    "- Every process has one thread that is always running if we are not created also. This is the <b>main thread</b>. This main thread actually creates the child thread objects. The child thread is also initiated by the main thread. I will show you all further in this article how to check the current running thread.\n",
    "\n",
    "###### When to use\n",
    "\n",
    "- Multithreading is very useful for saving time and improving performance, but it cannot be applied everywhere.In the previous Pubg example, the music thread is independent of the thread that takes your input and the thread that takes your input is independent of the thread that runs your opponent. These threads run independently because they are not inter-dependent.Therefore, multithreading can be used only when the dependency between individual threads does not exist.\n",
    "- To achieve Multithreading we need to install with following command in the prompt <b>conda install -c conda-forge tbb</b> then we need to import the threading module."
   ]
  },
  {
   "cell_type": "code",
   "execution_count": 3,
   "metadata": {},
   "outputs": [],
   "source": [
    "import threading\n",
    "from threading import *"
   ]
  },
  {
   "cell_type": "code",
   "execution_count": 9,
   "metadata": {},
   "outputs": [
    {
     "name": "stdout",
     "output_type": "stream",
     "text": [
      "which thread is running currently----> MainThread\n"
     ]
    }
   ],
   "source": [
    "#It will run with current_thread() object for getting name of thread\n",
    "print(\"which thread is running currently---->\",threading.current_thread().getName())"
   ]
  },
  {
   "cell_type": "markdown",
   "metadata": {},
   "source": [
    "##### Thread class \n",
    "To create a new thread, we create an object of Thread class. It takes following arguments:<br>\n",
    "- target: the function to be executed by thread\n",
    "- args: the arguments to be passed to the target function\n",
    "\n",
    "t = threading.Thread(target=XXXXX, args=(10,))"
   ]
  },
  {
   "cell_type": "markdown",
   "metadata": {},
   "source": [
    "#### Threads in Python can be created in three ways:\n",
    "\n",
    "##### 1) Without creating a class<br>"
   ]
  },
  {
   "cell_type": "code",
   "execution_count": 29,
   "metadata": {},
   "outputs": [
    {
     "name": "stdout",
     "output_type": "stream",
     "text": [
      "Child ThreadBye with thread name : MainThread\n",
      " Thread-21\n",
      "Child Thread Thread-21\n",
      "Child Thread Thread-21\n",
      "Child Thread Thread-21\n",
      "Child Thread Thread-21\n"
     ]
    }
   ],
   "source": [
    "from threading import *\n",
    "def display():\n",
    "    for i in range(5):\n",
    "        print(\"Child Thread\",current_thread().getName())\n",
    "    \n",
    "child=Thread(target=display) #Thread is a class from threading module and with that we are creating a child thread object \n",
    "                             #as new by providing target for doing is methodname(which one that thread ojec to perform) \n",
    "    \n",
    "child.start()     # starting the created thread \n",
    "#child.join()\n",
    "print(\"Bye with thread name :\",current_thread().getName())# this is executing by mainthread without waiting for completion \n",
    "#   of created child thread(simultaneously) if we want to over come that we need to use join method --which mean giveing \n",
    "#   info to main thead to join after the created statement completed\n",
    "#   Thread names are provided internally by python virtual machine "
   ]
  },
  {
   "cell_type": "markdown",
   "metadata": {},
   "source": [
    "#### 2) By extending Thread class<br>\n",
    "- When a child class is created by extending the Thread class, the child class represents that a new thread is executing some task. When extending the Thread class, the child class can override only two methods i.e. the __init__() method and the run() method. No other method can be overridden other than these two methods."
   ]
  },
  {
   "cell_type": "code",
   "execution_count": 55,
   "metadata": {},
   "outputs": [
    {
     "name": "stdout",
     "output_type": "stream",
     "text": [
      "Hi-from childBye-- Main MainThread\n",
      "Bye-- Main MainThread\n",
      "Bye-- Main MainThread\n",
      "Bye-- Main MainThread\n",
      "Bye-- Main MainThread\n",
      " Thread-44\n",
      "Hi-from child Thread-44\n",
      "Hi-from child Thread-44\n",
      "Hi-from child Thread-44\n",
      "Hi-from child Thread-44\n"
     ]
    }
   ],
   "source": [
    "import threading\n",
    "import time\n",
    "class MyThread(Thread):#class MyThread is inheriting the Thread class and the child class i.e MyThread is overriding the \n",
    "                       # run method.\n",
    "    def run(self):\n",
    "        for x in range(5):\n",
    "            print(\"Hi-from child\",current_thread().getName())\n",
    "a = MyThread()   # created the object of class MyThread which is executed by Main Thread\n",
    "a.start()   \n",
    "#a.join()\n",
    "for x in range(5):                          \n",
    "            print(\"Bye-- Main\",current_thread().getName())"
   ]
  },
  {
   "cell_type": "markdown",
   "metadata": {},
   "source": [
    "#### 3) Without extending Thread class<br>"
   ]
  },
  {
   "cell_type": "code",
   "execution_count": 57,
   "metadata": {},
   "outputs": [
    {
     "name": "stdout",
     "output_type": "stream",
     "text": [
      "child--->done MainThread\n",
      " Thread-46\n",
      "child---> Thread-46\n",
      "child---> Thread-46\n",
      "child---> Thread-46\n",
      "child---> Thread-46\n"
     ]
    }
   ],
   "source": [
    "import threading\n",
    "class thread:\n",
    "    def fun(self):\n",
    "        for x in range(5):\n",
    "            print(\"child--->\",current_thread().getName())\n",
    "a = thread()\n",
    "t=Thread(target=a.fun)\n",
    "t.start()\n",
    "#t.join()\n",
    "print(\"done\",current_thread().getName())"
   ]
  },
  {
   "cell_type": "code",
   "execution_count": 61,
   "metadata": {},
   "outputs": [
    {
     "name": "stdout",
     "output_type": "stream",
     "text": [
      "Remainder after dividing by 2 1\n",
      "Remainder after dividing by 2 0\n",
      "Remainder after dividing by 2 1\n",
      "Remainder after dividing by 2 0\n",
      "4.064086198806763\n"
     ]
    }
   ],
   "source": [
    "#Total time for program\n",
    "\n",
    "import threading\n",
    "from threading import *\n",
    "import time\n",
    "def sqr(n):\n",
    "    for x in n:\n",
    "        time.sleep(1)\n",
    "        print('Remainder after dividing by 2',x%2)\n",
    "        \n",
    "n=[1,2,3,4]\n",
    "start=time.time()\n",
    "t1=Thread(target=sqr,args=(n,))\n",
    "t1.start()\n",
    "time.sleep(1)  # giving 1sec time for avoid collision between main and child thread\n",
    "t1.join()\n",
    "end=time.time()\n",
    "print(end-start)"
   ]
  },
  {
   "cell_type": "code",
   "execution_count": 63,
   "metadata": {},
   "outputs": [
    {
     "name": "stdout",
     "output_type": "stream",
     "text": [
      "Hello\n",
      "Hi\n",
      "Hello\n",
      "Hi\n",
      "Hello\n",
      "Hi\n",
      "Hello\n",
      "Hi\n",
      "Hello\n",
      "Hi\n",
      "Bye\n"
     ]
    }
   ],
   "source": [
    "from time import sleep\n",
    "from threading import *\n",
    "\n",
    "class Hello(Thread):\n",
    "    def run(self):\n",
    "        for i in range(5):\n",
    "            print(\"Hello\")\n",
    "            sleep(1) # giving suggestion to sleep for 1 sec for avoiding collision\n",
    "\n",
    "class Hi(Thread):\n",
    "    def run(self):\n",
    "        for i in range(5):\n",
    "            print(\"Hi\")\n",
    "            sleep(1)\n",
    "\n",
    "t1 = Hello()\n",
    "t2 = Hi()\n",
    "\n",
    "t1.start()\n",
    "sleep(0.2) #between two threats difference \n",
    "t2.start()\n",
    "\n",
    "t1.join()\n",
    "t2.join()\n",
    "\n",
    "print(\"Bye\")"
   ]
  },
  {
   "cell_type": "code",
   "execution_count": null,
   "metadata": {},
   "outputs": [],
   "source": []
  }
 ],
 "metadata": {
  "kernelspec": {
   "display_name": "Python 3",
   "language": "python",
   "name": "python3"
  },
  "language_info": {
   "codemirror_mode": {
    "name": "ipython",
    "version": 3
   },
   "file_extension": ".py",
   "mimetype": "text/x-python",
   "name": "python",
   "nbconvert_exporter": "python",
   "pygments_lexer": "ipython3",
   "version": "3.7.6"
  }
 },
 "nbformat": 4,
 "nbformat_minor": 4
}
