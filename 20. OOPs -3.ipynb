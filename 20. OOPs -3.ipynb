{
 "cells": [
  {
   "cell_type": "markdown",
   "metadata": {},
   "source": [
    "### Polymorphism"
   ]
  },
  {
   "cell_type": "markdown",
   "metadata": {},
   "source": [
    "- Polymorphism is the ability of an object to take on many forms or more than one form.\n",
    "- Polymorphism is taken from the Greek words Poly (many) and morphism (forms). It means that the same function name can be used for different types. This makes programming more intuitive and easier.<br>\n",
    "Example:\n",
    "- 1) We have a button but forms of those are different like circle,rectangle,square etc., the action of those are same.\n",
    "- 2) Lets take Animal as a Class that has a method sound(). but the forms of sound are different to different animals like: Roar, Meow, Oink etc."
   ]
  },
  {
   "cell_type": "markdown",
   "metadata": {},
   "source": [
    "This polymorphism can be acheived with overloading and overriding\n",
    "- Ducktyping phylosophy\n",
    "- Overloading\n",
    " - 1) Operator overloading\n",
    " - 2) Method overloading\n",
    " - 3) Constructor overloading\n",
    "- Overriding \n",
    " - 1) Method overriding\n",
    " - 2) Constructor overriding "
   ]
  },
  {
   "cell_type": "markdown",
   "metadata": {},
   "source": [
    "#### Operating overloading\n",
    "\n",
    "- Operator Overloading means giving extended meaning beyond their predefined operational meaning. For example operator + is used to add two integers as well as join two strings and merge two lists. It is achievable because ‘+’ operator is overloaded by int class and str class. You might have noticed that the same built-in operator or function shows different behavior for objects of different classes, this is called Operator Overloading."
   ]
  },
  {
   "cell_type": "code",
   "execution_count": 15,
   "metadata": {},
   "outputs": [
    {
     "name": "stdout",
     "output_type": "stream",
     "text": [
      "11\n",
      "helloall\n",
      "11\n",
      "11\n",
      "-1\n",
      "-1\n",
      "30\n",
      "30\n",
      "15625\n",
      "15625\n",
      "0.8333333333333334\n",
      "0.8333333333333334\n"
     ]
    }
   ],
   "source": [
    "print(5+6)\n",
    "print('hello'+'all')\n",
    "# from above you  can see same + operator is performing different actions\n",
    "\n",
    "#example:from below methods you can see the action of deposit is same but parameters of that method is different\n",
    "        #same method name with different parameters is called method overloading\n",
    "        \n",
    "#deposit(cheque)\n",
    "#deposit(cash)\n",
    "#deposit(loan)\n",
    "\n",
    "\n",
    "#Same like that for every operator there will be a magic method it will be called internally \n",
    "# for each operator there will be a magic method. you can see examples in below.\n",
    "#This overloading with operater is called Operating overloading\n",
    "#In programming everything can be done with methods.This methods is called magic methods\n",
    "\n",
    "p1 = 5\n",
    "p2 = 6\n",
    "\n",
    "print(p1 + p2)\n",
    "print(int.__add__(p1,p2)) #__add__(self,other) -->this one will be called in background for p1+p2. p1 is self p2 is other\n",
    "\n",
    "print(p1 - p2)            \n",
    "print(p1.__sub__(p2))\n",
    "print(p1 * p2)\n",
    "print(p1.__mul__(p2))\n",
    "print(p1 ** p2)\n",
    "print(p1.__pow__(p2))\n",
    "print(p1 / p2)\n",
    "print(p1.__truediv__(p2))"
   ]
  },
  {
   "cell_type": "code",
   "execution_count": 34,
   "metadata": {},
   "outputs": [
    {
     "name": "stdout",
     "output_type": "stream",
     "text": [
      "58\n",
      "s2 wins\n"
     ]
    }
   ],
   "source": [
    "# clear explation defination of magic method \n",
    "\n",
    "class Student:\n",
    "\n",
    "    def __init__(self,m1,m2):\n",
    "        self.m1 = m1\n",
    "        self.m2 = m2\n",
    "\n",
    "    def __add__(self, other):\n",
    "        m1 = self.m1 + other.m1\n",
    "        m2 = self.m2 + other.m2\n",
    "        s3 = Student(m1,m2)\n",
    "\n",
    "        return  s3\n",
    "\n",
    "    def __gt__(self, other):\n",
    "        r1 = self.m1 + self.m2\n",
    "        r2 = other.m1 + other.m2\n",
    "        if r1 > r2:\n",
    "            return True\n",
    "        else:\n",
    "            return False\n",
    "\n",
    "\n",
    "s1 = Student(58,69)\n",
    "s2 = Student(69,65)\n",
    "\n",
    "s3 = s1 + s2    # calls Student.__add__(self,other)\n",
    "print(s1.m1)\n",
    "\n",
    "if s1 > s2:     # calls __gt__(self,other)\n",
    "    print(\"s1 wins\")\n",
    "else:\n",
    "    print(\"s2 wins\")\n",
    "    "
   ]
  },
  {
   "cell_type": "code",
   "execution_count": 39,
   "metadata": {},
   "outputs": [
    {
     "name": "stdout",
     "output_type": "stream",
     "text": [
      "the no runs are 50\n"
     ]
    }
   ],
   "source": [
    "class Cricket:\n",
    "\n",
    "    def __init__(self,pages):\n",
    "        self.pages = pages\n",
    "\n",
    "    def __str__(self):\n",
    "        return \"the no runs are \" + str(self.pages)\n",
    "        \n",
    "s1= Cricket(50)\n",
    "print(s1)  # calls __str__ method"
   ]
  },
  {
   "cell_type": "code",
   "execution_count": 46,
   "metadata": {},
   "outputs": [
    {
     "name": "stdout",
     "output_type": "stream",
     "text": [
      "The no pages are 250\n"
     ]
    }
   ],
   "source": [
    "class Book:\n",
    "\n",
    "    def __init__(self,pages):\n",
    "        self.pages = pages\n",
    "\n",
    "    def __str__(self):\n",
    "        return \"The no pages are \" + str(self.pages)\n",
    "    \n",
    "    def __add__(self,other):\n",
    "        total =self.pages+other.pages\n",
    "        b=Book(total)\n",
    "        return b\n",
    "    \n",
    "        \n",
    "b1=Book(50)\n",
    "b2=Book(150)\n",
    "b3=Book(20)\n",
    "b4=Book(30)\n",
    "print(b1+b2+b3+b4) # when objects are adding 1st two objects will to go add function then it makes to total and it returns\n",
    "                   # object b with this object b it added to b3 so on..like recursion at last it will return object only to\n",
    "                   # print function(after addition) then str method takes that object of print and converts to string and \n",
    "                   # it will print\n",
    "            \n",
    "            \n",
    "                 #when we are calling + operator then __add__() method will be called\n",
    "                 #when we are printing object reference then __str__() method will be called"
   ]
  },
  {
   "cell_type": "markdown",
   "metadata": {},
   "source": [
    "#### Method Overloading / Constructor overloading"
   ]
  },
  {
   "cell_type": "markdown",
   "metadata": {},
   "source": [
    "- Method Overloading is a feature that allows a class to have more than one method having the same name, if their argument type,no. of arguments are different is called Method Overloading\n",
    "- <b>example:</b><br>\n",
    "method1(int i)<br>\n",
    "method2(int i,float j)\n",
    "- But python method/constructor overloading is supports but not there in python. because when we are defineing method we always talk about types(explicitly) but in python we won't declare the type. it will take automatically the type.so only it not required overloading in python<br>\n",
    "- <b>example:</b><br>\n",
    "method1(i)<br>\n",
    "method2(i,j)"
   ]
  },
  {
   "cell_type": "code",
   "execution_count": 62,
   "metadata": {},
   "outputs": [
    {
     "name": "stdout",
     "output_type": "stream",
     "text": [
      "5\n"
     ]
    }
   ],
   "source": [
    "# for acheiving overloading another way\n",
    "\n",
    "class Student:\n",
    "\n",
    "    def __init__(self,m1,m2):\n",
    "        self.m1 = m1\n",
    "        self.m2 = m2\n",
    "        \n",
    "    def sum(self,a=None,b=None,c=None):         # can also use *a\n",
    "        s = 0   \n",
    "        if a!=None and b!=None and c!=None:\n",
    "            s = a+b+c\n",
    "        elif a!=None and b!=None:\n",
    "            s = a+b\n",
    "        else:\n",
    "            s = a\n",
    "        return s\n",
    "    \n",
    "s1 = Student(58,69)\n",
    "print(s1.sum(5)) # we can pass 1,2,3 arguments"
   ]
  },
  {
   "cell_type": "code",
   "execution_count": 63,
   "metadata": {},
   "outputs": [
    {
     "ename": "TypeError",
     "evalue": "method() missing 1 required positional argument: 'b'",
     "output_type": "error",
     "traceback": [
      "\u001b[1;31m---------------------------------------------------------------------------\u001b[0m",
      "\u001b[1;31mTypeError\u001b[0m                                 Traceback (most recent call last)",
      "\u001b[1;32m<ipython-input-63-10b6891e28f1>\u001b[0m in \u001b[0;36m<module>\u001b[1;34m\u001b[0m\n\u001b[0;32m      7\u001b[0m \u001b[1;33m\u001b[0m\u001b[0m\n\u001b[0;32m      8\u001b[0m \u001b[0ms\u001b[0m\u001b[1;33m=\u001b[0m\u001b[0mStudent\u001b[0m\u001b[1;33m(\u001b[0m\u001b[1;33m)\u001b[0m\u001b[1;33m\u001b[0m\u001b[1;33m\u001b[0m\u001b[0m\n\u001b[1;32m----> 9\u001b[1;33m \u001b[0ms\u001b[0m\u001b[1;33m.\u001b[0m\u001b[0mmethod\u001b[0m\u001b[1;33m(\u001b[0m\u001b[1;36m5\u001b[0m\u001b[1;33m)\u001b[0m \u001b[1;31m# It shows error although having method with one arg because when both method names are same it will take only\u001b[0m\u001b[1;33m\u001b[0m\u001b[1;33m\u001b[0m\u001b[0m\n\u001b[0m\u001b[0;32m     10\u001b[0m             \u001b[1;31m# last method for action. in last method we have 2 argument so getting error\u001b[0m\u001b[1;33m\u001b[0m\u001b[1;33m\u001b[0m\u001b[1;33m\u001b[0m\u001b[0m\n",
      "\u001b[1;31mTypeError\u001b[0m: method() missing 1 required positional argument: 'b'"
     ]
    }
   ],
   "source": [
    "class Student:\n",
    "    \n",
    "    def method(self,a):         # for constructors we user __init__(self,a)\n",
    "        print(\"one argument\")\n",
    "    def method(self,a,b):       # for constructors we user __init__(self,a,b)\n",
    "        print(\"two argument\")\n",
    "        \n",
    "s=Student()\n",
    "s.method(5) # It shows error although having method with one arg because when both method names are same it will take only \n",
    "            # last method for action. in last method we have 2 argument so getting error"
   ]
  },
  {
   "cell_type": "markdown",
   "metadata": {},
   "source": [
    "#### Method Overriding / Constructor overriding\n",
    "- Declaring a method in sub class which is already present in parent class is known as method overriding. Overriding is done so that a child class can give its own implementation to a method which is already provided by the parent class. In this case the method in parent class is called overridden method and the method in child class is called overriding method. \n"
   ]
  },
  {
   "cell_type": "code",
   "execution_count": 65,
   "metadata": {},
   "outputs": [
    {
     "name": "stdout",
     "output_type": "stream",
     "text": [
      "in B Show\n"
     ]
    }
   ],
   "source": [
    "class A:\n",
    "\n",
    "    def show(self):\n",
    "        print(\"in A Show\")\n",
    "\n",
    "class B(A):\n",
    "\n",
    "    def show(self):         # this method overrides with parent show method because if show method not available in \n",
    "        print(\"in B Show\")  # B class then it will go to A class and prints show method but if show method availble in B \n",
    "                            # class so it will overrides with a show method\n",
    "        \n",
    "a1 = B()\n",
    "a1.show()"
   ]
  },
  {
   "cell_type": "code",
   "execution_count": 68,
   "metadata": {},
   "outputs": [
    {
     "name": "stdout",
     "output_type": "stream",
     "text": [
      "in B Show\n"
     ]
    }
   ],
   "source": [
    "# same for constructors\n",
    "class A:\n",
    "\n",
    "    def __init__(self):\n",
    "        print(\"in A Show\")\n",
    "\n",
    "class B(A):\n",
    "\n",
    "    def __init__(self):\n",
    "        print(\"in B Show\")\n",
    "        \n",
    "a1 = B()"
   ]
  },
  {
   "cell_type": "markdown",
   "metadata": {},
   "source": [
    "#### Ducktyping phylosophy"
   ]
  },
  {
   "cell_type": "code",
   "execution_count": null,
   "metadata": {},
   "outputs": [],
   "source": []
  }
 ],
 "metadata": {
  "kernelspec": {
   "display_name": "Python 3",
   "language": "python",
   "name": "python3"
  },
  "language_info": {
   "codemirror_mode": {
    "name": "ipython",
    "version": 3
   },
   "file_extension": ".py",
   "mimetype": "text/x-python",
   "name": "python",
   "nbconvert_exporter": "python",
   "pygments_lexer": "ipython3",
   "version": "3.7.6"
  }
 },
 "nbformat": 4,
 "nbformat_minor": 4
}
