{
 "cells": [
  {
   "cell_type": "markdown",
   "metadata": {},
   "source": [
    "###  __name__ == \"__main__\""
   ]
  },
  {
   "cell_type": "raw",
   "metadata": {},
   "source": [
    "- the python interpreter runs the code sequentially. Main function is executed only when it is run as a Python program. It will not run the main function if it imported as a module.\n",
    "- There we got two print functions - one is defined within the main function that is \"Hello World\" and the other is independent, which is \"Guru99\". When you run the function def main (): \n",
    "- it is printed only one print this is because of __name__ == \"__main__\""
   ]
  },
  {
   "cell_type": "code",
   "execution_count": 5,
   "metadata": {},
   "outputs": [
    {
     "name": "stdout",
     "output_type": "stream",
     "text": [
      "Krishna\n"
     ]
    }
   ],
   "source": [
    "def main():\n",
    "     print (\"hello world!\")\n",
    "print (\"Krishna\")"
   ]
  },
  {
   "cell_type": "raw",
   "metadata": {},
   "source": [
    "- It is important that after defining the main function, you call the code by if__name__== \"__main__\" and then run the code, only then you will get the output \"hello world!\""
   ]
  },
  {
   "cell_type": "code",
   "execution_count": 6,
   "metadata": {},
   "outputs": [
    {
     "name": "stdout",
     "output_type": "stream",
     "text": [
      "hello world!\n",
      "Krishna\n"
     ]
    }
   ],
   "source": [
    "def main():\n",
    "     print (\"hello world!\")\n",
    "\n",
    "if __name__ == \"__main__\":\n",
    "    main()\n",
    "    \n",
    "print (\"Krishna\")"
   ]
  },
  {
   "cell_type": "raw",
   "metadata": {},
   "source": [
    "- If the python interpreter is running that module (the source file) as the main program, it sets the special __name__ variable to have a value “__main__”. If this file is being imported from another module, __name__ will be set to the module’s name. Module’s name is available as value to __name__ global variable."
   ]
  },
  {
   "cell_type": "code",
   "execution_count": 7,
   "metadata": {},
   "outputs": [
    {
     "name": "stdout",
     "output_type": "stream",
     "text": [
      "__main__\n"
     ]
    }
   ],
   "source": [
    "print(__name__)"
   ]
  },
  {
   "cell_type": "code",
   "execution_count": 14,
   "metadata": {},
   "outputs": [
    {
     "name": "stdout",
     "output_type": "stream",
     "text": [
      "Always executed\n",
      "Executed when invoked directly\n"
     ]
    }
   ],
   "source": [
    "print(\"Always executed\")\n",
    "  \n",
    "if __name__ == \"__main__\": \n",
    "    print(\"Executed when invoked directly\")\n",
    "else: \n",
    "    print(\"Executed when imported\")"
   ]
  },
  {
   "cell_type": "code",
   "execution_count": 16,
   "metadata": {},
   "outputs": [
    {
     "name": "stdout",
     "output_type": "stream",
     "text": [
      "I am inside function\n"
     ]
    }
   ],
   "source": [
    "#file 1 name -----myscripy\n",
    "\n",
    "def my_function(): \n",
    "      print (\"I am inside function\")\n",
    "  \n",
    "# We can test function by calling it. \n",
    "my_function() "
   ]
  },
  {
   "cell_type": "markdown",
   "metadata": {},
   "source": [
    "Now if we want to use that above module by importing."
   ]
  },
  {
   "cell_type": "code",
   "execution_count": 20,
   "metadata": {},
   "outputs": [
    {
     "name": "stdout",
     "output_type": "stream",
     "text": [
      "I am inside function\n"
     ]
    },
    {
     "ename": "ModuleNotFoundError",
     "evalue": "No module named 'myscripy'",
     "output_type": "error",
     "traceback": [
      "\u001b[1;31m---------------------------------------------------------------------------\u001b[0m",
      "\u001b[1;31mModuleNotFoundError\u001b[0m                       Traceback (most recent call last)",
      "\u001b[1;32m<ipython-input-20-e0a5c4397991>\u001b[0m in \u001b[0;36m<module>\u001b[1;34m\u001b[0m\n\u001b[0;32m      3\u001b[0m \u001b[1;32mif\u001b[0m \u001b[0m__name__\u001b[0m \u001b[1;33m==\u001b[0m \u001b[1;34m\"__main__\"\u001b[0m\u001b[1;33m:\u001b[0m\u001b[1;33m\u001b[0m\u001b[1;33m\u001b[0m\u001b[0m\n\u001b[0;32m      4\u001b[0m     \u001b[0mmy_function\u001b[0m\u001b[1;33m(\u001b[0m\u001b[1;33m)\u001b[0m\u001b[1;33m\u001b[0m\u001b[1;33m\u001b[0m\u001b[0m\n\u001b[1;32m----> 5\u001b[1;33m \u001b[1;32mimport\u001b[0m \u001b[0mmyscripy\u001b[0m  \u001b[1;31m#imported from ablove module\u001b[0m\u001b[1;33m\u001b[0m\u001b[1;33m\u001b[0m\u001b[0m\n\u001b[0m",
      "\u001b[1;31mModuleNotFoundError\u001b[0m: No module named 'myscripy'"
     ]
    }
   ],
   "source": [
    "#file 2\n",
    "\n",
    "if __name__ == \"__main__\": \n",
    "    my_function()  \n",
    "import myscripy  #imported from ablove module"
   ]
  },
  {
   "cell_type": "code",
   "execution_count": null,
   "metadata": {},
   "outputs": [],
   "source": []
  }
 ],
 "metadata": {
  "kernelspec": {
   "display_name": "Python 3",
   "language": "python",
   "name": "python3"
  },
  "language_info": {
   "codemirror_mode": {
    "name": "ipython",
    "version": 3
   },
   "file_extension": ".py",
   "mimetype": "text/x-python",
   "name": "python",
   "nbconvert_exporter": "python",
   "pygments_lexer": "ipython3",
   "version": "3.7.6"
  }
 },
 "nbformat": 4,
 "nbformat_minor": 4
}
