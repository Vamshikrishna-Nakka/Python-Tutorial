{
 "cells": [
  {
   "cell_type": "markdown",
   "metadata": {},
   "source": [
    "## Tuples\n",
    "- A tuple is a collection which is ordered and immutable(unchangeable) . A tuple in Python is similar to a list.\n",
    "\n",
    "- may contain duplicate values\n",
    "\n",
    "- A tuple is created by placing all the items (elements) inside parentheses (), separated by commas. parentheses are optional\n",
    "\n",
    "- Access tuple items by referring to the index number, inside square brackets\n",
    "\n",
    "- You can specify a range of indexes by specifying where to start and end the range. but ending position is not included."
   ]
  },
  {
   "cell_type": "code",
   "execution_count": 6,
   "metadata": {},
   "outputs": [
    {
     "name": "stdout",
     "output_type": "stream",
     "text": [
      "()\n"
     ]
    }
   ],
   "source": [
    "# Empty tuple\n",
    "my = ()\n",
    "print(my)"
   ]
  },
  {
   "cell_type": "code",
   "execution_count": 5,
   "metadata": {},
   "outputs": [
    {
     "name": "stdout",
     "output_type": "stream",
     "text": [
      "(1, 'Hello', 3.4)\n"
     ]
    }
   ],
   "source": [
    "# tuple with mixed datatypes\n",
    "my= (1, \"Hello\", 3.4)\n",
    "print(my)"
   ]
  },
  {
   "cell_type": "code",
   "execution_count": 4,
   "metadata": {},
   "outputs": [
    {
     "name": "stdout",
     "output_type": "stream",
     "text": [
      "('mouse', [8, 4, 6], (1, 2, 3))\n"
     ]
    }
   ],
   "source": [
    "# nested tuple1\n",
    "n= (\"mouse\", [8, 4, 6], (1, 2, 3))\n",
    "print(n)"
   ]
  },
  {
   "cell_type": "code",
   "execution_count": 9,
   "metadata": {},
   "outputs": [
    {
     "name": "stdout",
     "output_type": "stream",
     "text": [
      "((3, 6.7, 'Hi'), (6, 7, 'Hello'))\n"
     ]
    }
   ],
   "source": [
    "# nested tuple2\n",
    "Tuple1=(3,6.7,'Hi')\n",
    "Tuple2=(6,7,'Hello')\n",
    "m = (Tuple1, Tuple2)    \n",
    "print(m)"
   ]
  },
  {
   "cell_type": "code",
   "execution_count": 10,
   "metadata": {},
   "outputs": [
    {
     "name": "stdout",
     "output_type": "stream",
     "text": [
      "(3, 6.7, 'Hi', 6, 7, 'Hello')\n"
     ]
    }
   ],
   "source": [
    "# Concatenaton of tuples \n",
    "Tuple3 = Tuple1 + Tuple2\n",
    "print(Tuple3)"
   ]
  },
  {
   "cell_type": "code",
   "execution_count": 11,
   "metadata": {},
   "outputs": [
    {
     "name": "stdout",
     "output_type": "stream",
     "text": [
      "('Hello', 'Hello', 'Hello')\n"
     ]
    }
   ],
   "source": [
    "#Creating a Tuple with repetition\n",
    "Tu = ('Hello',) * 3    \n",
    "print(Tu)"
   ]
  },
  {
   "cell_type": "code",
   "execution_count": null,
   "metadata": {},
   "outputs": [],
   "source": [
    "#with the use of built-in function \n",
    "T= tuple('krishna')\n",
    "print(T)"
   ]
  },
  {
   "cell_type": "code",
   "execution_count": 13,
   "metadata": {},
   "outputs": [
    {
     "name": "stdout",
     "output_type": "stream",
     "text": [
      "(5, 4, 3)\n"
     ]
    }
   ],
   "source": [
    "#Reversing the Tuple \n",
    "T=(3,4,5)\n",
    "print(T[::-1])"
   ]
  },
  {
   "cell_type": "code",
   "execution_count": 19,
   "metadata": {},
   "outputs": [],
   "source": [
    "# Deleting a Tuple \n",
    "te =(2,3,4)\n",
    "del te              "
   ]
  },
  {
   "cell_type": "code",
   "execution_count": 20,
   "metadata": {},
   "outputs": [
    {
     "name": "stdout",
     "output_type": "stream",
     "text": [
      "(1, 2, 4, 5, 6)\n"
     ]
    }
   ],
   "source": [
    "# Creating a Tuple with the use of list and converting with inbuilt function\n",
    "li = [1, 2, 4, 5, 6]\n",
    "print(tuple(li))"
   ]
  },
  {
   "cell_type": "markdown",
   "metadata": {},
   "source": [
    "A tuple can also be created without using parentheses. This is known as <b>tuple packing</b>."
   ]
  },
  {
   "cell_type": "code",
   "execution_count": 21,
   "metadata": {},
   "outputs": [],
   "source": [
    "# tuple packing is also possible\n",
    "my_tuple = 3, 4.6, \"dog\"\n",
    "# tuple unpacking is also possible\n",
    "a, b, c = my_tuple"
   ]
  },
  {
   "cell_type": "code",
   "execution_count": 22,
   "metadata": {},
   "outputs": [
    {
     "name": "stdout",
     "output_type": "stream",
     "text": [
      "1\n"
     ]
    }
   ],
   "source": [
    "#accessing with index number\n",
    "my= (1, \"Hello\", 3.4)\n",
    "print(my[0])"
   ]
  },
  {
   "cell_type": "code",
   "execution_count": 24,
   "metadata": {},
   "outputs": [
    {
     "name": "stdout",
     "output_type": "stream",
     "text": [
      "3.4\n"
     ]
    }
   ],
   "source": [
    "#Negative Indexing\n",
    "print(my[-1])"
   ]
  },
  {
   "cell_type": "code",
   "execution_count": 28,
   "metadata": {},
   "outputs": [
    {
     "name": "stdout",
     "output_type": "stream",
     "text": [
      "s\n"
     ]
    }
   ],
   "source": [
    "#accessing nested tuple\n",
    "n= (\"mouse\", [8, 4, 6], (1, 2, 3))\n",
    "print(n[0][3])"
   ]
  },
  {
   "cell_type": "markdown",
   "metadata": {},
   "source": [
    "##### Slicing operator - colon \":\""
   ]
  },
  {
   "cell_type": "code",
   "execution_count": 35,
   "metadata": {},
   "outputs": [
    {
     "name": "stdout",
     "output_type": "stream",
     "text": [
      "('Hello', 3.4, 6)\n",
      "(1, 'Hello')\n",
      "(9, 0)\n",
      "(1, 'Hello', 3.4, 6, 7, 8, 2, 9, 0)\n"
     ]
    }
   ],
   "source": [
    "my= (1, \"Hello\", 3.4,6,7,8,2,9,0)\n",
    "#range\n",
    "print(my[1:4])\n",
    "#start to up to position\n",
    "print(my[:-7])\n",
    "#position to end\n",
    "print(my[7:])\n",
    "#full tuple\n",
    "print(my[:])"
   ]
  },
  {
   "cell_type": "code",
   "execution_count": 34,
   "metadata": {},
   "outputs": [
    {
     "name": "stdout",
     "output_type": "stream",
     "text": [
      "5\n"
     ]
    }
   ],
   "source": [
    "#list in tuple take as a single object t[2][1] i.e, prints 5\n",
    "t=(1,2,[3,5])\n",
    "print(t[2][1])"
   ]
  },
  {
   "cell_type": "markdown",
   "metadata": {},
   "source": [
    "### Functions in Tuple"
   ]
  },
  {
   "cell_type": "markdown",
   "metadata": {},
   "source": [
    "- count(value)  :\tReturns the number of times a specified value occurs in a tuple"
   ]
  },
  {
   "cell_type": "code",
   "execution_count": 37,
   "metadata": {},
   "outputs": [
    {
     "name": "stdout",
     "output_type": "stream",
     "text": [
      "2\n"
     ]
    }
   ],
   "source": [
    "thistuple = (1, 3, 7, 8, 7, 5, 4, 6, 8, 5)\n",
    "x = thistuple.count(5)\n",
    "print(x)"
   ]
  },
  {
   "cell_type": "markdown",
   "metadata": {},
   "source": [
    "- index(value)   :\tSearches the tuple for a specified value and returns the position of where it was found"
   ]
  },
  {
   "cell_type": "code",
   "execution_count": 38,
   "metadata": {},
   "outputs": [
    {
     "name": "stdout",
     "output_type": "stream",
     "text": [
      "3\n"
     ]
    }
   ],
   "source": [
    "x = thistuple.index(8)\n",
    "print(x)"
   ]
  },
  {
   "cell_type": "markdown",
   "metadata": {},
   "source": [
    "- max(n1, n2, n3, ...)\treturn maximum element of given tuple"
   ]
  },
  {
   "cell_type": "code",
   "execution_count": 43,
   "metadata": {},
   "outputs": [
    {
     "name": "stdout",
     "output_type": "stream",
     "text": [
      "Vicky\n"
     ]
    }
   ],
   "source": [
    "#Return the name with the highest value, ordered alphabetically\n",
    "x = max(\"Mike\", \"John\", \"Vicky\")\n",
    "print(x)"
   ]
  },
  {
   "cell_type": "markdown",
   "metadata": {},
   "source": [
    "- min(n1, n2, n3, ...)\treturn minimum element of given tuple"
   ]
  },
  {
   "cell_type": "code",
   "execution_count": 42,
   "metadata": {},
   "outputs": [
    {
     "name": "stdout",
     "output_type": "stream",
     "text": [
      "John\n"
     ]
    }
   ],
   "source": [
    "x = min(\"Mike\", \"John\", \"Vicky\")\n",
    "print(x)"
   ]
  },
  {
   "cell_type": "markdown",
   "metadata": {},
   "source": [
    "- sum(a, start)---this returns the sum of the list + start. start is optional"
   ]
  },
  {
   "cell_type": "code",
   "execution_count": 46,
   "metadata": {},
   "outputs": [
    {
     "name": "stdout",
     "output_type": "stream",
     "text": [
      "38\n"
     ]
    }
   ],
   "source": [
    "t=(1,2,3,4,5,6,7)\n",
    "Sum = sum(t, 10)\n",
    "print(Sum)"
   ]
  },
  {
   "cell_type": "markdown",
   "metadata": {},
   "source": [
    "- sorted(nameoftuple, key, reverse):\tinput elements in the tuple and return a new sorted list.key and reverse is optional.<br>\n",
    "   key= which takes a function as its parameter.<br>\n",
    "   reverse= If set true, then the iterable would be sorted in reverse (descending) order, by default it is set as false."
   ]
  },
  {
   "cell_type": "code",
   "execution_count": 58,
   "metadata": {},
   "outputs": [
    {
     "name": "stdout",
     "output_type": "stream",
     "text": [
      "[7, 6, 5, 4, 3, 2, 1]\n"
     ]
    }
   ],
   "source": [
    "tt=(1,2,3,4,5,6,7)\n",
    "print (sorted(tt, reverse = True))"
   ]
  },
  {
   "cell_type": "code",
   "execution_count": 57,
   "metadata": {},
   "outputs": [
    {
     "name": "stdout",
     "output_type": "stream",
     "text": [
      "Sort with len : ['b', 'dd', 'aaa', 'cccc']\n"
     ]
    }
   ],
   "source": [
    "L = [\"cccc\", \"b\", \"dd\", \"aaa\"]\n",
    "print (\"Sort with len :\", sorted(L, key = len))"
   ]
  },
  {
   "cell_type": "code",
   "execution_count": 60,
   "metadata": {},
   "outputs": [
    {
     "name": "stdout",
     "output_type": "stream",
     "text": [
      "[2, 4, 5, 6, 9]\n"
     ]
    }
   ],
   "source": [
    "tt=(2,9,5,4,6)\n",
    "print (sorted(tt, reverse = False,key=None)) # equal to sortted(tt)"
   ]
  }
 ],
 "metadata": {
  "kernelspec": {
   "display_name": "Python 3",
   "language": "python",
   "name": "python3"
  },
  "language_info": {
   "codemirror_mode": {
    "name": "ipython",
    "version": 3
   },
   "file_extension": ".py",
   "mimetype": "text/x-python",
   "name": "python",
   "nbconvert_exporter": "python",
   "pygments_lexer": "ipython3",
   "version": "3.7.6"
  }
 },
 "nbformat": 4,
 "nbformat_minor": 4
}
