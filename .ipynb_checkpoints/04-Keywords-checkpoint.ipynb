{
 "cells": [
  {
   "cell_type": "markdown",
   "metadata": {},
   "source": [
    "## Keywords(33)"
   ]
  },
  {
   "cell_type": "markdown",
   "metadata": {},
   "source": [
    "<pre>\n",
    "1. <b>True</b>     : if statement is correct boolean true or 1.\n",
    "2. <b>False</b>    : if statement is not correct boolean false or 0.\n",
    "3. <b>None</b>     : This is a special constant used to denote a null value or a void.\n",
    "4. <b>and</b>      : Return the first false value.\n",
    "5. <b>or </b>      : Return the first True value.\n",
    "6. <b>not</b>      : Inverts  value. \n",
    "7. <b>assert</b>   : Usually used to check the correctness of code. If a statement evaluated to true, nothing happens, but &#9;when it is false,“AssertionError” is raised . One can also print a message with the error, separated by a comma.\n",
    "8. <b>break</b>    : Used to break out of loop and passes the control to the statement following immediately after loop.\n",
    "9. <b>continue</b> : Skips the current iteration of the loop, but does not end the loop.\n",
    "10. <b>class</b>   : Used to declare class\n",
    "11. <b>def </b>    : Used to declare user defined functions\n",
    "12. <b>if  </b>    : Decision making.\n",
    "13. <b>else</b>    : Decision making\n",
    "14. <b>elif    </b>: Decision making\n",
    "15. <b>del    </b> : del is used to delete a reference to an object.\n",
    "16. <b>try     </b>: Used for exception handling,which holds error of code \n",
    "17. <b>except </b> : This works together with “try” to catch exceptions.in other languages as \"catch\" block\n",
    "18. <b>raise   </b>: Also used for exception handling to explicitly raise exceptions.\n",
    "19. <b>finally </b>: No matter what is result of the “try” block, except block but “finally” is always executed.\n",
    "20. <b>for     </b>: Used to control flow and for looping.\n",
    "21. <b>while  </b> : Has a similar working like “for” , used to control flow and for looping.\n",
    "22. <b>pass   </b> : It is the null statement in python. Nothing happens when this is encountered.This is used to prevent                       indentation errors and used as a placeholder\n",
    "23. <b>import  </b>: This statement is used to include a particular module into current program.\n",
    "24. <b>from    </b>: Generally used with import, from is used to import particular functionality from the module imported.\n",
    "25. <b>as      </b>: Used to create the alias for the module imported.\n",
    "26. <b>lambda  </b>: Used to make inline returning functions with no statements allowed internally.\n",
    "27. <b>return  </b>: Used to return from the function.\n",
    "28. <b>yield   </b>: Tused like return statement but is used to return a generator.\n",
    "29. <b>with    </b>: Used to wrap the execution of block of code within methods defined by context manager.This keyword is not                   used much in day to day programming.\n",
    "30. <b>in     </b> : Used to check if a container contains a value. and also used to loop through the container.\n",
    "31. <b>is      </b>: To check if both the objects take same memory location or not.\n",
    "32. <b>global  </b>: Used to define a variable inside the function to be of a global scope.\n",
    "33. <b>non-local</b>: Similar to the global, but rather than global, this keyword declares a variable to \n",
    "               point to variable of outside enclosing function, in case of nested functions.</pre>"
   ]
  },
  {
   "cell_type": "code",
   "execution_count": 1,
   "metadata": {},
   "outputs": [
    {
     "name": "stdout",
     "output_type": "stream",
     "text": [
      "['False', 'None', 'True', 'and', 'as', 'assert', 'async', 'await', 'break', 'class', 'continue', 'def', 'del', 'elif', 'else', 'except', 'finally', 'for', 'from', 'global', 'if', 'import', 'in', 'is', 'lambda', 'nonlocal', 'not', 'or', 'pass', 'raise', 'return', 'try', 'while', 'with', 'yield']\n",
      "False\n"
     ]
    }
   ],
   "source": [
    "#list of keywords\n",
    "import keyword\n",
    "print (keyword.kwlist)"
   ]
  },
  {
   "cell_type": "code",
   "execution_count": 2,
   "metadata": {},
   "outputs": [
    {
     "name": "stdout",
     "output_type": "stream",
     "text": [
      "False\n"
     ]
    }
   ],
   "source": [
    "#to check is it a keyword or not\n",
    "print(keyword.iskeyword(\"name of keyword\"))"
   ]
  }
 ],
 "metadata": {
  "kernelspec": {
   "display_name": "Python 3",
   "language": "python",
   "name": "python3"
  },
  "language_info": {
   "codemirror_mode": {
    "name": "ipython",
    "version": 3
   },
   "file_extension": ".py",
   "mimetype": "text/x-python",
   "name": "python",
   "nbconvert_exporter": "python",
   "pygments_lexer": "ipython3",
   "version": "3.7.6"
  }
 },
 "nbformat": 4,
 "nbformat_minor": 4
}
