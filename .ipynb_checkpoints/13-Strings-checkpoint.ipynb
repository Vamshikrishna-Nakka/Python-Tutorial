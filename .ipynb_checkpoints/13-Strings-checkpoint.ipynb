{
 "cells": [
  {
   "cell_type": "markdown",
   "metadata": {},
   "source": [
    "## Strings\n",
    "A string is a ordered sequence of characters. can be created using single quotes or double quotes or even triple quotes.\n",
    "- access of index must be integer positive or negative\n",
    "- strings are immutable  the elements of a string cannot be changed once it has been assigned. We can simply reassign different strings to the same name.\n",
    "- singleline String using double and single quote<br>\n",
    "\"Hello\"<br>\n",
    "'Hello'<br>\n",
    "- Multiline String using 3 double and single quote<br>\n",
    "\"\"\"Hello <br>\n",
    "          World\"\"\"<br>\n",
    "'''Lorem <br>     \n",
    "        \n",
    "   hh ''' <br>\n"
   ]
  },
  {
   "cell_type": "code",
   "execution_count": 1,
   "metadata": {},
   "outputs": [],
   "source": [
    "#this a index positive and negative\n",
    "-7  -6 -5 -4 -3 -2 -1  \n",
    "K   R  I  S  H  N  A\n",
    "0   1  2  3  4  5  6"
   ]
  },
  {
   "cell_type": "code",
   "execution_count": 13,
   "metadata": {},
   "outputs": [],
   "source": [
    "#assigning to varibles\n",
    "s=\"KRISHNA Vamshi\"     \n",
    "t = 'Hello'\n",
    "p = ('Hello ','World')"
   ]
  },
  {
   "cell_type": "code",
   "execution_count": 4,
   "metadata": {},
   "outputs": [
    {
     "name": "stdout",
     "output_type": "stream",
     "text": [
      "KRISHNA\n",
      "S\n"
     ]
    }
   ],
   "source": [
    "print(s)#printing\n",
    "print(s[3])#certain position"
   ]
  },
  {
   "cell_type": "code",
   "execution_count": 5,
   "metadata": {},
   "outputs": [
    {
     "data": {
      "text/plain": [
       "'S'"
      ]
     },
     "execution_count": 5,
     "metadata": {},
     "output_type": "execute_result"
    }
   ],
   "source": [
    "#same as above directing from string but above with varible\n",
    "'KRISHNA'[3] "
   ]
  },
  {
   "cell_type": "code",
   "execution_count": 6,
   "metadata": {},
   "outputs": [
    {
     "ename": "SyntaxError",
     "evalue": "keyword can't be an expression (<ipython-input-6-1dd32a7b628d>, line 2)",
     "output_type": "error",
     "traceback": [
      "\u001b[1;36m  File \u001b[1;32m\"<ipython-input-6-1dd32a7b628d>\"\u001b[1;36m, line \u001b[1;32m2\u001b[0m\n\u001b[1;33m    print(s[4]=\"h\")\u001b[0m\n\u001b[1;37m         ^\u001b[0m\n\u001b[1;31mSyntaxError\u001b[0m\u001b[1;31m:\u001b[0m keyword can't be an expression\n"
     ]
    }
   ],
   "source": [
    "# error becoz immutable\n",
    "print(s[4]=\"h\")"
   ]
  },
  {
   "cell_type": "code",
   "execution_count": 7,
   "metadata": {},
   "outputs": [
    {
     "name": "stdout",
     "output_type": "stream",
     "text": [
      "concatination  KRISHNAHello\n"
     ]
    }
   ],
   "source": [
    "# concatination using +\n",
    "print('concatination :', s + t)"
   ]
  },
  {
   "cell_type": "code",
   "execution_count": 8,
   "metadata": {},
   "outputs": [
    {
     "name": "stdout",
     "output_type": "stream",
     "text": [
      "multipleing HelloHelloHello\n"
     ]
    }
   ],
   "source": [
    "#  multiplying string using *\n",
    "print('multipleing', t * 3)"
   ]
  },
  {
   "cell_type": "code",
   "execution_count": 9,
   "metadata": {},
   "outputs": [
    {
     "data": {
      "text/plain": [
       "'dKRISHNA'"
      ]
     },
     "execution_count": 9,
     "metadata": {},
     "output_type": "execute_result"
    }
   ],
   "source": [
    "#concatination\n",
    "'d'+s"
   ]
  },
  {
   "cell_type": "code",
   "execution_count": 10,
   "metadata": {},
   "outputs": [
    {
     "name": "stdout",
     "output_type": "stream",
     "text": [
      "7\n"
     ]
    }
   ],
   "source": [
    "#to know about length\n",
    "print(len(s))"
   ]
  },
  {
   "cell_type": "code",
   "execution_count": 11,
   "metadata": {},
   "outputs": [
    {
     "name": "stdout",
     "output_type": "stream",
     "text": [
      "A\n"
     ]
    }
   ],
   "source": [
    "#Negative Indexing particular\n",
    "print(s[-1])"
   ]
  },
  {
   "cell_type": "markdown",
   "metadata": {},
   "source": [
    "##### Slicing operator - colon \":\""
   ]
  },
  {
   "cell_type": "code",
   "execution_count": 14,
   "metadata": {},
   "outputs": [
    {
     "name": "stdout",
     "output_type": "stream",
     "text": [
      "RIS\n",
      "KRISHNA\n",
      " Vamshi\n",
      "KRISHNA Vamshi\n",
      "ams\n",
      "ihsmaV ANHSIRK\n"
     ]
    }
   ],
   "source": [
    "print(s[1:4])#range\n",
    "print(s[:-7])#start to up to position\n",
    "print(s[7:])#position to end\n",
    "print(s[:])#full string\n",
    "print(s[-5:-2])#negative inexing\n",
    "print(s[::-1]) #Reversing the string"
   ]
  },
  {
   "cell_type": "markdown",
   "metadata": {},
   "source": [
    "#### String Formatting Escape Sequence"
   ]
  },
  {
   "cell_type": "code",
   "execution_count": 17,
   "metadata": {},
   "outputs": [
    {
     "name": "stdout",
     "output_type": "stream",
     "text": [
      "He said, \"What's there?\"\n",
      "He said, \"What's there?\"\n",
      "He said, \"What's there?\"\n",
      "C:\\Python32\\Lib\n",
      "This is printed\\nin two lines\n",
      "This is \\x61 \\ngood example\n"
     ]
    }
   ],
   "source": [
    "# using triple quotes\n",
    "print('''He said, \"What's there?\"''')\n",
    "# escaping single quotes\n",
    "print('He said, \"What\\'s there?\"')\n",
    "# escaping double quotes\n",
    "print(\"He said, \\\"What's there?\\\"\")\n",
    "print(\"C:\\\\Python32\\\\Lib\")\n",
    "print(\"This is printed\\\\nin two lines\")\n",
    "#Raw String to ignore escape sequence\n",
    "print(r\"This is \\x61 \\ngood example\")"
   ]
  },
  {
   "cell_type": "markdown",
   "metadata": {},
   "source": [
    "### Functions"
   ]
  },
  {
   "cell_type": "markdown",
   "metadata": {},
   "source": [
    "1) <b>capitalize()</b> :Converts the first character to upper case   "
   ]
  },
  {
   "cell_type": "code",
   "execution_count": 19,
   "metadata": {},
   "outputs": [
    {
     "name": "stdout",
     "output_type": "stream",
     "text": [
      "Hello\n"
     ]
    }
   ],
   "source": [
    "txt=\"hello\"\n",
    "x = txt.capitalize()\n",
    "print(x)"
   ]
  },
  {
   "cell_type": "markdown",
   "metadata": {},
   "source": [
    "2) <b>casefold()</b>: Converts string into lower case"
   ]
  },
  {
   "cell_type": "code",
   "execution_count": 21,
   "metadata": {},
   "outputs": [
    {
     "name": "stdout",
     "output_type": "stream",
     "text": [
      "hello\n"
     ]
    }
   ],
   "source": [
    "x = txt.casefold()\n",
    "print(x)"
   ]
  },
  {
   "cell_type": "markdown",
   "metadata": {},
   "source": [
    "3) <b>center(length, character): </b> Returns a centered string with<br>\n",
    "                 length  : Required. The length of the returned string<br>\n",
    "                 character : Optional. The character to fill the missing space on each side. Default is \" \" (space)<br>"
   ]
  },
  {
   "cell_type": "code",
   "execution_count": 22,
   "metadata": {},
   "outputs": [
    {
     "name": "stdout",
     "output_type": "stream",
     "text": [
      "OOOOOOOhelloOOOOOOOO\n"
     ]
    }
   ],
   "source": [
    "x = txt.center(20, \"O\")\n",
    "print(x)"
   ]
  },
  {
   "cell_type": "markdown",
   "metadata": {},
   "source": [
    "4) <b>count(value, start, end) </b>:Returns the number of times a specified value occurs in a string<br>\n",
    "                       value:  Required. A String. The string to value to search for<br>\n",
    "                       start:  Optional. An Integer. The position to start the search. Default is 0<br>\n",
    "                       end\t:  Optional. An Integer. The position to end the search. Default is the end of the string<br>"
   ]
  },
  {
   "cell_type": "code",
   "execution_count": 33,
   "metadata": {},
   "outputs": [
    {
     "name": "stdout",
     "output_type": "stream",
     "text": [
      "2\n"
     ]
    }
   ],
   "source": [
    "g='Hello World All'\n",
    "x=txt.count(\"l\", 1, 24)\n",
    "print(x)"
   ]
  },
  {
   "cell_type": "markdown",
   "metadata": {},
   "source": [
    "5) <b>encode(encoding=encoding, errors=errors)</b>:\tReturns an encoded version of the string<br>\n",
    "                      <b>encoding\t</b>:Optional. A String specifying the encoding to use. Default is UTF-8<br>\n",
    "                      <b>errors\t</b>:Optional. A String specifying the error method. Legal values are:<br>\n",
    "- 'backslashreplace'\t- uses a backslash instead of the character that could not be encoded<br>\n",
    "- 'ignore'\t- ignores the characters that cannot be encoded<br>\n",
    "- 'namereplace'\t- replaces the character with a text explaining the character<br>\n",
    "- 'strict'\t- Default, raises an error on failure<br>\n",
    "- 'replace'\t- replaces the character with a questionmark<br>\n",
    "- 'xmlcharrefreplace'\t- replaces the character with an xml character<br>"
   ]
  },
  {
   "cell_type": "code",
   "execution_count": 36,
   "metadata": {},
   "outputs": [
    {
     "name": "stdout",
     "output_type": "stream",
     "text": [
      "b'Hello All'\n"
     ]
    }
   ],
   "source": [
    "txt=\"Hello All\"\n",
    "x= txt.encode(encoding=\"ascii\",errors=\"ignore\")\n",
    "print(x)"
   ]
  },
  {
   "cell_type": "markdown",
   "metadata": {},
   "source": [
    "6) <b>endswith(value, start, end)</b>:\tReturns true if the string ends with the specified value\n",
    "- value\t:Required. The value to check if the string ends with\n",
    "- start\t:Optional. An Integer specifying at which position to start the search\n",
    "- end\t    :Optional. An Integer specifying at which position to end the search\n"
   ]
  },
  {
   "cell_type": "code",
   "execution_count": 38,
   "metadata": {},
   "outputs": [
    {
     "name": "stdout",
     "output_type": "stream",
     "text": [
      "False\n"
     ]
    }
   ],
   "source": [
    "txt=\"Hello All\"\n",
    "x = txt.endswith(\"my world.\", 5, 11)\n",
    "print(x)"
   ]
  },
  {
   "cell_type": "markdown",
   "metadata": {},
   "source": [
    "7) <b>expandtabs(tabsize)</b>: Sets the tab size of the string\n",
    "- tabsize : Optional. A number specifying the tabsize. Default tabsize is 8"
   ]
  },
  {
   "cell_type": "code",
   "execution_count": 39,
   "metadata": {},
   "outputs": [
    {
     "name": "stdout",
     "output_type": "stream",
     "text": [
      "H\te\tl\tl\to\n",
      "H       e       l       l       o\n",
      "H e l l o\n"
     ]
    }
   ],
   "source": [
    " txt = \"H\\te\\tl\\tl\\to\"\n",
    "print(txt)\n",
    "print(txt.expandtabs())\n",
    "print(txt.expandtabs(2))"
   ]
  },
  {
   "cell_type": "markdown",
   "metadata": {},
   "source": [
    "8) <b>find(value, start, end) </b> :Searches the string for a specified value and returns the position of where it was found.<br>\n",
    "value\t:Required. The value to search for<br>\n",
    "start\t:Optional. Where to start the search. Default is 0<br>\n",
    "end\t    :Optional. Where to end the search. Default is to the end of the string<br>\n",
    "- The find() method is almost the same as the index() method, the only difference is that the index() method raises an exception if the value is not found. "
   ]
  },
  {
   "cell_type": "code",
   "execution_count": 46,
   "metadata": {},
   "outputs": [
    {
     "name": "stdout",
     "output_type": "stream",
     "text": [
      "6\n"
     ]
    }
   ],
   "source": [
    "txt=\"Hello All\"\n",
    "x = txt.find(\"A\", 1, 8)\n",
    "print(x)"
   ]
  },
  {
   "cell_type": "markdown",
   "metadata": {},
   "source": [
    "9) <b>format() </b>: Formats specified values in a string"
   ]
  },
  {
   "cell_type": "code",
   "execution_count": null,
   "metadata": {},
   "outputs": [],
   "source": []
  },
  {
   "cell_type": "markdown",
   "metadata": {},
   "source": [
    "10) <b>format_map()</b> : Formats specified values in a string"
   ]
  },
  {
   "cell_type": "code",
   "execution_count": null,
   "metadata": {},
   "outputs": [],
   "source": []
  },
  {
   "cell_type": "markdown",
   "metadata": {},
   "source": [
    "11) <b>index(value, start, end) </b>:\tSearches the string for a specified value and returns the position of where it was found.\n",
    "- If the value is not found, the find() method returns -1, but the index() method will raise an exception:"
   ]
  },
  {
   "cell_type": "code",
   "execution_count": 3,
   "metadata": {},
   "outputs": [
    {
     "name": "stdout",
     "output_type": "stream",
     "text": [
      "2\n"
     ]
    }
   ],
   "source": [
    "txt=\"Hello All\"\n",
    "x=txt.index('l', 2, 7)\n",
    "print(x)"
   ]
  },
  {
   "cell_type": "markdown",
   "metadata": {},
   "source": [
    "12) <b>isalnum()</b>: Returns True if all characters in the string are alphanumeric"
   ]
  },
  {
   "cell_type": "code",
   "execution_count": 9,
   "metadata": {},
   "outputs": [
    {
     "name": "stdout",
     "output_type": "stream",
     "text": [
      "True\n"
     ]
    }
   ],
   "source": [
    "txt=\"Hello2All\"\n",
    "x = txt.isalnum()\n",
    "print(x)"
   ]
  },
  {
   "cell_type": "markdown",
   "metadata": {},
   "source": [
    "13) <b>isalpha()</b>:Returns True if all characters in the string are in the alphabet"
   ]
  },
  {
   "cell_type": "code",
   "execution_count": 8,
   "metadata": {},
   "outputs": [
    {
     "name": "stdout",
     "output_type": "stream",
     "text": [
      "False\n"
     ]
    }
   ],
   "source": [
    "txt=\"Hello All\"\n",
    "x = txt.isalpha()\n",
    "print(x)"
   ]
  },
  {
   "cell_type": "markdown",
   "metadata": {},
   "source": [
    "14) <b>isdecimal()</b>:Returns True if all characters in the string are decimals"
   ]
  },
  {
   "cell_type": "code",
   "execution_count": 10,
   "metadata": {},
   "outputs": [
    {
     "name": "stdout",
     "output_type": "stream",
     "text": [
      "True\n"
     ]
    }
   ],
   "source": [
    "a = \"\\u0030\"\n",
    "print(a.isdecimal())"
   ]
  },
  {
   "cell_type": "markdown",
   "metadata": {},
   "source": [
    "15) <b>isdigit()</b> :Returns True if all characters in the string are digits"
   ]
  },
  {
   "cell_type": "code",
   "execution_count": 1,
   "metadata": {},
   "outputs": [
    {
     "name": "stdout",
     "output_type": "stream",
     "text": [
      "True\n"
     ]
    }
   ],
   "source": [
    "b = \"\\u00B2\" #unicode for ²\n",
    "print(b.isdigit())"
   ]
  },
  {
   "cell_type": "markdown",
   "metadata": {},
   "source": [
    "16) <b>isidentifier()</b>:\tReturns True if the string is an identifier"
   ]
  },
  {
   "cell_type": "code",
   "execution_count": 2,
   "metadata": {},
   "outputs": [
    {
     "name": "stdout",
     "output_type": "stream",
     "text": [
      "True\n"
     ]
    }
   ],
   "source": [
    "a = \"MyFolder\"\n",
    "print(a.isidentifier())"
   ]
  },
  {
   "cell_type": "markdown",
   "metadata": {},
   "source": [
    "17) <b>islower()</b>:\tReturns True if all characters in the string are lower case"
   ]
  },
  {
   "cell_type": "code",
   "execution_count": 3,
   "metadata": {},
   "outputs": [
    {
     "name": "stdout",
     "output_type": "stream",
     "text": [
      "False\n"
     ]
    }
   ],
   "source": [
    " a = \"Hello world!\"\n",
    "print(a.islower())"
   ]
  },
  {
   "cell_type": "markdown",
   "metadata": {},
   "source": [
    "18) <b>isnumeric()</b>:\tReturns True if all characters in the string are numeric"
   ]
  },
  {
   "cell_type": "code",
   "execution_count": 4,
   "metadata": {},
   "outputs": [
    {
     "name": "stdout",
     "output_type": "stream",
     "text": [
      "True\n"
     ]
    }
   ],
   "source": [
    "b = \"\\u00B2\"\n",
    "print(b.isnumeric())"
   ]
  },
  {
   "cell_type": "markdown",
   "metadata": {},
   "source": [
    "19) <b>isprintable()</b>:Returns True if all characters in the string are printable"
   ]
  },
  {
   "cell_type": "code",
   "execution_count": 7,
   "metadata": {},
   "outputs": [
    {
     "name": "stdout",
     "output_type": "stream",
     "text": [
      "False\n"
     ]
    }
   ],
   "source": [
    "txt = \"Hello!\\nAre you #1?\"\n",
    "x = txt.isprintable()\n",
    "print(x)"
   ]
  },
  {
   "cell_type": "markdown",
   "metadata": {},
   "source": [
    "20) <b>isspace()</b>: Returns True if all characters in the string are whitespaces"
   ]
  },
  {
   "cell_type": "code",
   "execution_count": 8,
   "metadata": {},
   "outputs": [
    {
     "name": "stdout",
     "output_type": "stream",
     "text": [
      "False\n"
     ]
    }
   ],
   "source": [
    "txt = \"   s   \"\n",
    "x = txt.isspace()\n",
    "print(x)"
   ]
  },
  {
   "cell_type": "markdown",
   "metadata": {},
   "source": [
    " 21) <b>istitle()</b>:\tReturns True if the string follows the rules of a title"
   ]
  },
  {
   "cell_type": "code",
   "execution_count": 10,
   "metadata": {},
   "outputs": [
    {
     "name": "stdout",
     "output_type": "stream",
     "text": [
      "True\n"
     ]
    }
   ],
   "source": [
    "b = \"Hello\"\n",
    "print(b.istitle())"
   ]
  },
  {
   "cell_type": "markdown",
   "metadata": {},
   "source": [
    "22) <b>isupper()</b>:Returns True if all characters in the string are upper case"
   ]
  },
  {
   "cell_type": "code",
   "execution_count": 12,
   "metadata": {},
   "outputs": [
    {
     "name": "stdout",
     "output_type": "stream",
     "text": [
      "False\n"
     ]
    }
   ],
   "source": [
    "txt=\"Hello All\"\n",
    "print(txt.isupper())"
   ]
  },
  {
   "cell_type": "markdown",
   "metadata": {},
   "source": [
    "24) <b>ljust(length, character) </b>: Returns a left justified version of the string\n",
    "- length\tRequired. The length of the returned string\n",
    "- character\tOptional. A character to fill the missing space (to the right of the string). Default is \" \" (space)"
   ]
  },
  {
   "cell_type": "code",
   "execution_count": 13,
   "metadata": {},
   "outputs": [
    {
     "name": "stdout",
     "output_type": "stream",
     "text": [
      "Hello worldOOOOOOOOO\n"
     ]
    }
   ],
   "source": [
    "txt=\"Hello world\"\n",
    "x = txt.ljust(20, \"O\")\n",
    "print(x)"
   ]
  },
  {
   "cell_type": "markdown",
   "metadata": {},
   "source": [
    "25) <b>lower()</b>:Converts a string into lower case"
   ]
  },
  {
   "cell_type": "code",
   "execution_count": 15,
   "metadata": {},
   "outputs": [
    {
     "name": "stdout",
     "output_type": "stream",
     "text": [
      "hello\n"
     ]
    }
   ],
   "source": [
    "txt='Hello'\n",
    "x = txt.lower()\n",
    "print(x)"
   ]
  },
  {
   "cell_type": "markdown",
   "metadata": {},
   "source": [
    "26) <b>lstrip(characters)</b>: Returns a left trim version of the string\n",
    "- characters: Optional. A set of characters to remove as leading characters"
   ]
  },
  {
   "cell_type": "code",
   "execution_count": 17,
   "metadata": {},
   "outputs": [
    {
     "name": "stdout",
     "output_type": "stream",
     "text": [
      "banana\n"
     ]
    }
   ],
   "source": [
    "txt = \",,,,,ssaaww.....banana\"\n",
    "x = txt.lstrip(\",.asw\")\n",
    "print(x)"
   ]
  },
  {
   "cell_type": "markdown",
   "metadata": {},
   "source": [
    "27) <b>maketrans()</b>:Returns a translation table to be used in translations"
   ]
  },
  {
   "cell_type": "code",
   "execution_count": null,
   "metadata": {},
   "outputs": [],
   "source": []
  },
  {
   "cell_type": "markdown",
   "metadata": {},
   "source": [
    "28) <b>partition(value)</b> :Returns a tuple where the string is parted into three parts    \n",
    "- value   :Required. The string to search for"
   ]
  },
  {
   "cell_type": "code",
   "execution_count": 20,
   "metadata": {},
   "outputs": [
    {
     "name": "stdout",
     "output_type": "stream",
     "text": [
      "('Hello all need ', 'apples', '')\n"
     ]
    }
   ],
   "source": [
    "txt=\"Hello all need apples\"\n",
    "x = txt.partition(\"apples\")\n",
    "print(x)"
   ]
  },
  {
   "cell_type": "markdown",
   "metadata": {},
   "source": [
    "29) <b>replace(oldvalue, newvalue, count)</b>:Returns a string where a specified value is replaced with a specified value\n",
    "- oldvalue:Required. The string to search for\n",
    "- newvalue:Required. The string to replace the old value with\n",
    "- count:Optional. A number specifying how many occurrences of the old value you want to replace.Default is all occurrences"
   ]
  },
  {
   "cell_type": "code",
   "execution_count": 22,
   "metadata": {},
   "outputs": [
    {
     "name": "stdout",
     "output_type": "stream",
     "text": [
      "Hello three\n"
     ]
    }
   ],
   "source": [
    "txt=\"Hello one\"\n",
    "x = txt.replace(\"one\", \"three\", 2)\n",
    "print(x)"
   ]
  },
  {
   "cell_type": "markdown",
   "metadata": {},
   "source": [
    "30) <b>rfind(value, start, end)</b>:Searches the string for a specified value and returns the last position of where it was found\n",
    "- value: Required. The value to search for\n",
    "- start: Optional. Where to start the search. Default is 0\n",
    "- end  : Optional. Where to end the search. Default is to the end of the string"
   ]
  },
  {
   "cell_type": "code",
   "execution_count": 23,
   "metadata": {},
   "outputs": [
    {
     "name": "stdout",
     "output_type": "stream",
     "text": [
      "1\n"
     ]
    }
   ],
   "source": [
    "txt='Hello'\n",
    "x = txt.rfind(\"e\")\n",
    "print(x)"
   ]
  },
  {
   "cell_type": "markdown",
   "metadata": {},
   "source": [
    "31) <b>rindex(value, start, end)</b>:Searches the string for a specified value and returns the last position of where it was found\n",
    "- value:Required. The value to search for\n",
    "- start:Optional. Where to start the search. Default is 0\n",
    "- end  :Optional. Where to end the search. Default is to the end of the string"
   ]
  },
  {
   "cell_type": "code",
   "execution_count": 25,
   "metadata": {},
   "outputs": [
    {
     "name": "stdout",
     "output_type": "stream",
     "text": [
      "1\n"
     ]
    }
   ],
   "source": [
    "txt=\"Hello world\"\n",
    "x = txt.rindex(\"e\", 1, 8)\n",
    "print(x)"
   ]
  },
  {
   "cell_type": "markdown",
   "metadata": {},
   "source": [
    "32) <b>rjust(length, character) </b>: Returns a right justified version of the string\n",
    "- length: Required. The length of the returned string\n",
    "- character: Optional. A character to fill the missing space (to the left of the string). Default is \" \" (space)"
   ]
  },
  {
   "cell_type": "code",
   "execution_count": 1,
   "metadata": {},
   "outputs": [
    {
     "name": "stdout",
     "output_type": "stream",
     "text": [
      "OOOOOOOOOOOOOOOHello\n"
     ]
    }
   ],
   "source": [
    "txt=\"Hello\"\n",
    "x = txt.rjust(20, \"O\")\n",
    "print(x)"
   ]
  },
  {
   "cell_type": "markdown",
   "metadata": {},
   "source": [
    "33) <b>rpartition(value)</b>: Returns a tuple where the string is parted into three parts\n",
    "- value\t(Required): The string to search for"
   ]
  },
  {
   "cell_type": "code",
   "execution_count": 2,
   "metadata": {},
   "outputs": [
    {
     "name": "stdout",
     "output_type": "stream",
     "text": [
      "('', '', 'Hello')\n"
     ]
    }
   ],
   "source": [
    "txt=\"Hello\"\n",
    "x = txt.rpartition(\"apples\")\n",
    "print(x)"
   ]
  },
  {
   "cell_type": "markdown",
   "metadata": {},
   "source": [
    "34) <b>rsplit(separator, maxsplit)</b>:Splits the string at the specified separator, and returns a list\n",
    "- separator\tOptional. Specifies the separator to use when splitting the string. By default any whitespace is a separator\n",
    "- maxsplit\tOptional. Specifies how many splits to do. Default value is -1, which is \"all occurrences\""
   ]
  },
  {
   "cell_type": "code",
   "execution_count": 3,
   "metadata": {},
   "outputs": [
    {
     "name": "stdout",
     "output_type": "stream",
     "text": [
      "['apple, banana', 'cherry']\n"
     ]
    }
   ],
   "source": [
    "txt = \"apple, banana, cherry\"# setting the maxsplit parameter to 1, will return a list with 2 elements!\n",
    "x = txt.rsplit(\", \", 1)\n",
    "print(x)"
   ]
  },
  {
   "cell_type": "markdown",
   "metadata": {},
   "source": [
    "35) <b>rstrip(characters)</b>:\tReturns a right trim version of the string\n",
    "- characters\tOptional. A set of characters to remove as trailing characters"
   ]
  },
  {
   "cell_type": "code",
   "execution_count": 4,
   "metadata": {},
   "outputs": [
    {
     "name": "stdout",
     "output_type": "stream",
     "text": [
      "banan\n"
     ]
    }
   ],
   "source": [
    "txt = \"banana,,,,,ssaaww.....\"\n",
    "x = txt.rstrip(\",.asw\")\n",
    "print(x)"
   ]
  },
  {
   "cell_type": "markdown",
   "metadata": {},
   "source": [
    "36) <b>split(separator, maxsplit)</b>:\tSplits the string at the specified separator, and returns a list\n",
    "- separator\tOptional. Specifies the separator to use when splitting the string. By default any whitespace isa separator\n",
    "- maxsplit\tOptional. Specifies how many splits to do. Default value is -1, which is \"all occurrences\""
   ]
  },
  {
   "cell_type": "code",
   "execution_count": 5,
   "metadata": {},
   "outputs": [
    {
     "name": "stdout",
     "output_type": "stream",
     "text": [
      "['Hello']\n"
     ]
    }
   ],
   "source": [
    "txt=\"Hello\"\n",
    "x = txt.split(\", \")\n",
    "print(x)"
   ]
  },
  {
   "cell_type": "markdown",
   "metadata": {},
   "source": [
    "37) <b>splitlines(keeplinebreaks)</b>:Splits the string at line breaks and returns a list\n",
    "- keeplinebreaks\tOptional. Specifies if the line breaks should be included (True), or not (False).Default value is not (False)"
   ]
  },
  {
   "cell_type": "code",
   "execution_count": 6,
   "metadata": {},
   "outputs": [
    {
     "name": "stdout",
     "output_type": "stream",
     "text": [
      "['Thank you for the music\\n', 'Welcome to the jungle']\n"
     ]
    }
   ],
   "source": [
    "txt = \"Thank you for the music\\nWelcome to the jungle\"\n",
    "x = txt.splitlines(True)\n",
    "print(x)"
   ]
  },
  {
   "cell_type": "markdown",
   "metadata": {},
   "source": [
    "38) <b>startswith()</b>:Returns true if the string starts with the specified value"
   ]
  },
  {
   "cell_type": "code",
   "execution_count": 8,
   "metadata": {},
   "outputs": [
    {
     "name": "stdout",
     "output_type": "stream",
     "text": [
      "True\n"
     ]
    }
   ],
   "source": [
    "txt='Hello'\n",
    "x = txt.startswith(\"H\")\n",
    "print(x)"
   ]
  },
  {
   "cell_type": "markdown",
   "metadata": {},
   "source": [
    "39) <b>strip(characters)</b>:\tReturns a trimmed version of the string\n",
    "- characters\tOptional. A set of characters to remove as leading/trailing characters"
   ]
  },
  {
   "cell_type": "code",
   "execution_count": 9,
   "metadata": {},
   "outputs": [
    {
     "name": "stdout",
     "output_type": "stream",
     "text": [
      "banana\n"
     ]
    }
   ],
   "source": [
    "txt = \",,,,,rrttgg.....banana....rrr\"\n",
    "x = txt.strip(\",.grt\")\n",
    "print(x)"
   ]
  },
  {
   "cell_type": "markdown",
   "metadata": {},
   "source": [
    "40) <b>swapcase()</b>:\tSwaps cases, lower case becomes upper case and vice versa"
   ]
  },
  {
   "cell_type": "code",
   "execution_count": 11,
   "metadata": {},
   "outputs": [
    {
     "name": "stdout",
     "output_type": "stream",
     "text": [
      "hELLO WORLD\n"
     ]
    }
   ],
   "source": [
    "txt=\"Hello world\"\n",
    "x = txt.swapcase()\n",
    "print(x)"
   ]
  },
  {
   "cell_type": "markdown",
   "metadata": {},
   "source": [
    "41) <b>title()</b>:\tConverts the first character of each word to upper case"
   ]
  },
  {
   "cell_type": "code",
   "execution_count": 12,
   "metadata": {},
   "outputs": [
    {
     "name": "stdout",
     "output_type": "stream",
     "text": [
      "Hello\n"
     ]
    }
   ],
   "source": [
    "txt=\"Hello\"\n",
    "x = txt.title()\n",
    "print(x)"
   ]
  },
  {
   "cell_type": "markdown",
   "metadata": {},
   "source": [
    "42) <b>translate()</b>:\tReturns a translated string"
   ]
  },
  {
   "cell_type": "code",
   "execution_count": null,
   "metadata": {},
   "outputs": [],
   "source": []
  },
  {
   "cell_type": "markdown",
   "metadata": {},
   "source": [
    "43) <b>upper()</b>:\tConverts a string into upper case"
   ]
  },
  {
   "cell_type": "code",
   "execution_count": 13,
   "metadata": {},
   "outputs": [
    {
     "name": "stdout",
     "output_type": "stream",
     "text": [
      "HELLO\n"
     ]
    }
   ],
   "source": [
    "txt=\"Hello\"\n",
    "x = txt.upper()\n",
    "print(x)"
   ]
  },
  {
   "cell_type": "markdown",
   "metadata": {},
   "source": [
    "44) <b>zfill(len)</b>:\tFills the string with a specified number of 0 values at the beginning\n",
    "- len: Required. A number specifying the position of the element you want to remove"
   ]
  },
  {
   "cell_type": "code",
   "execution_count": 14,
   "metadata": {},
   "outputs": [
    {
     "name": "stdout",
     "output_type": "stream",
     "text": [
      "00000hello\n"
     ]
    }
   ],
   "source": [
    " a = \"hello\"\n",
    "print(a.zfill(10))"
   ]
  },
  {
   "cell_type": "markdown",
   "metadata": {},
   "source": [
    "45) <b>join(iterable)</b>: takes all items in an iterable and joins them into one string.A string must be specified as the separator.\n",
    "- iterable:Required. Any iterable object where all the returned values are strings"
   ]
  },
  {
   "cell_type": "code",
   "execution_count": 15,
   "metadata": {},
   "outputs": [
    {
     "name": "stdout",
     "output_type": "stream",
     "text": [
      "nameTESTcountry\n"
     ]
    }
   ],
   "source": [
    "myDict = {\"name\": \"John\", \"country\": \"Norway\"}\n",
    "mySeparator = \"TEST\"\n",
    "x = mySeparator.join(myDict)\n",
    "print(x)"
   ]
  },
  {
   "cell_type": "markdown",
   "metadata": {},
   "source": [
    "46) <b>split()</b>: elemination of provided string from text"
   ]
  },
  {
   "cell_type": "code",
   "execution_count": 16,
   "metadata": {},
   "outputs": [
    {
     "data": {
      "text/plain": [
       "['h', ' th', 's ', 's str', 'ng']"
      ]
     },
     "execution_count": 16,
     "metadata": {},
     "output_type": "execute_result"
    }
   ],
   "source": [
    "x='hi this is string'\n",
    "x.split('i')  # eleminating i character and print remaining"
   ]
  }
 ],
 "metadata": {
  "kernelspec": {
   "display_name": "Python 3",
   "language": "python",
   "name": "python3"
  },
  "language_info": {
   "codemirror_mode": {
    "name": "ipython",
    "version": 3
   },
   "file_extension": ".py",
   "mimetype": "text/x-python",
   "name": "python",
   "nbconvert_exporter": "python",
   "pygments_lexer": "ipython3",
   "version": "3.7.6"
  }
 },
 "nbformat": 4,
 "nbformat_minor": 4
}
