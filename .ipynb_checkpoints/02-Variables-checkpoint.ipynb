{
 "cells": [
  {
   "cell_type": "markdown",
   "metadata": {},
   "source": [
    "# Variables"
   ]
  },
  {
   "cell_type": "markdown",
   "metadata": {},
   "source": [
    "- A variable is a reserved memory location to store values. If the value is modified,the name does not change.python uses dynamically typed\n",
    "\n",
    "- Rules for naming a varible:\n",
    " - A variable name must start with a letter or the underscore(_) character\n",
    " - A variable name cannot start with a number\n",
    " - A variable name can only contain alpha-numeric characters and underscores (A-z, 0-9, and _ )\n",
    " - Variable names are case-sensitive (age, Age and AGE are three different variables)\n",
    " - we can not use python's keywords as a valid variable name\n",
    " \n",
    "<b>Syntax</b><br>\n",
    " variable name = value<br>\n",
    "- Value of an integer is not restricted by the number of bits and can expand to the limit of the available memory \n",
    "- Even though there's no need to specify a data type when declaring a variable in Python, while allocating the necessary area in memory for the variable, the Python interpreter automatically picks the most suitable built-in type for it:"
   ]
  },
  {
   "cell_type": "code",
   "execution_count": 3,
   "metadata": {},
   "outputs": [],
   "source": [
    "a=10           #interger\n",
    "b=40.0         #Float\n",
    "c=\"hello all\"  #String\n",
    "d=True         #boolean\n",
    "x=None         #empty varibale\n",
    "\n",
    "print(type(varibale name))  #to know about value of datatype "
   ]
  },
  {
   "cell_type": "markdown",
   "metadata": {},
   "source": [
    "### Assign multiple values to multiple variables in one line"
   ]
  },
  {
   "cell_type": "code",
   "execution_count": 7,
   "metadata": {},
   "outputs": [
    {
     "name": "stdout",
     "output_type": "stream",
     "text": [
      "2 Hello 3.5\n",
      "5 5 5\n"
     ]
    }
   ],
   "source": [
    "# no. of variable names and same no. of values also same if not it gets an ValueError: too many values to unpack\n",
    "x, y, z = 2,\"Hello\" ,3.5\n",
    "print(x, y, z)"
   ]
  },
  {
   "cell_type": "code",
   "execution_count": 10,
   "metadata": {},
   "outputs": [
    {
     "name": "stdout",
     "output_type": "stream",
     "text": [
      "5 5 5\n"
     ]
    }
   ],
   "source": [
    "# same value to multiple variables\n",
    "p = q = r = 5\n",
    "print(p,q,r)"
   ]
  },
  {
   "cell_type": "code",
   "execution_count": 17,
   "metadata": {},
   "outputs": [
    {
     "name": "stdout",
     "output_type": "stream",
     "text": [
      "[7, 8, 9] [7, 8, 9]\n",
      "[13, 8, 9] [13, 8, 9]\n"
     ]
    }
   ],
   "source": [
    "# with group\n",
    "x = y = [7, 8, 9]  \n",
    "print(x,y)\n",
    "\n",
    "# changing one values chanages will happen on both variables\n",
    "x[0] = 13\n",
    "print(x,y)"
   ]
  },
  {
   "cell_type": "code",
   "execution_count": 9,
   "metadata": {},
   "outputs": [
    {
     "name": "stdout",
     "output_type": "stream",
     "text": [
      "1 2\n"
     ]
    }
   ],
   "source": [
    "#For dummy variable we can you underscore to overcome unpack error\n",
    "a, b, _ = 1, 2, 3\n",
    "print(a, b)"
   ]
  },
  {
   "cell_type": "markdown",
   "metadata": {},
   "source": [
    "## Types of Varibles"
   ]
  },
  {
   "cell_type": "markdown",
   "metadata": {},
   "source": [
    "#### 1. Local varibles :  \n",
    "\n",
    "- declared Inside a function or a block\n",
    "- If it is not initialized, a garbage value is stored"
   ]
  },
  {
   "cell_type": "code",
   "execution_count": 19,
   "metadata": {},
   "outputs": [
    {
     "name": "stdout",
     "output_type": "stream",
     "text": [
      "I am learning Python\n"
     ]
    }
   ],
   "source": [
    "# f acts as local variable\n",
    "def fun():\n",
    "        f = 'Python'# Local varible\n",
    "        print('I am learning '+f) \n",
    "fun()"
   ]
  },
  {
   "cell_type": "markdown",
   "metadata": {},
   "source": [
    "#### 2. Global Varibles:\n",
    "- Declared out side of functions and accessed both inside and out of functions\n",
    "- If it is not initialized zero is stored as default."
   ]
  },
  {
   "cell_type": "code",
   "execution_count": 24,
   "metadata": {},
   "outputs": [
    {
     "name": "stdout",
     "output_type": "stream",
     "text": [
      "Krishna\n",
      "Me too.\n",
      "I love Krishna\n",
      "Krishna\n"
     ]
    }
   ],
   "source": [
    "# s acts as global variable \n",
    "def fun():  \n",
    "    p = \"Me too.\"\n",
    "    print(p)\n",
    "    print(\"I love \"+s)\n",
    "# Global scope \n",
    "s = \"Krishna\"\n",
    "print(s)\n",
    "fun() \n",
    "print(s)"
   ]
  },
  {
   "cell_type": "markdown",
   "metadata": {},
   "source": [
    "### Global Keyword:\n",
    "- Normally, when you create a variable inside a function, that variable is local, and can only be used inside that function.This is because we can only access the global variable but cannot Modify it from inside the function. Modifying Global Variable From Inside a Function by using global keyword."
   ]
  },
  {
   "cell_type": "code",
   "execution_count": 25,
   "metadata": {},
   "outputs": [
    {
     "name": "stdout",
     "output_type": "stream",
     "text": [
      "Inside add(): 2\n",
      "In main: 2\n"
     ]
    }
   ],
   "source": [
    "c = 0 # global variable\n",
    "def add():\n",
    "    global c\n",
    "    c = c + 2 # increment by 2\n",
    "    print(\"Inside add():\", c)\n",
    "add()\n",
    "print(\"In main:\", c)"
   ]
  },
  {
   "cell_type": "code",
   "execution_count": 28,
   "metadata": {},
   "outputs": [
    {
     "name": "stdout",
     "output_type": "stream",
     "text": [
      "Python is fantastic\n"
     ]
    }
   ],
   "source": [
    "x = \"awesome\"\n",
    "def myfunc():\n",
    "    global x\n",
    "    x = \"fantastic\"\n",
    "\n",
    "myfunc()\n",
    "print(\"Python is \" + x)"
   ]
  },
  {
   "cell_type": "code",
   "execution_count": null,
   "metadata": {},
   "outputs": [],
   "source": []
  }
 ],
 "metadata": {
  "kernelspec": {
   "display_name": "Python 3",
   "language": "python",
   "name": "python3"
  },
  "language_info": {
   "codemirror_mode": {
    "name": "ipython",
    "version": 3
   },
   "file_extension": ".py",
   "mimetype": "text/x-python",
   "name": "python",
   "nbconvert_exporter": "python",
   "pygments_lexer": "ipython3",
   "version": "3.7.6"
  }
 },
 "nbformat": 4,
 "nbformat_minor": 4
}
