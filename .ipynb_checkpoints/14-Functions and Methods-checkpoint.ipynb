{
 "cells": [
  {
   "cell_type": "markdown",
   "metadata": {},
   "source": [
    "# Functions"
   ]
  },
  {
   "cell_type": "markdown",
   "metadata": {},
   "source": [
    "- A function is a group of related statements that performs a specific task.<br>\n",
    "- functions help to break our program into smaller chunks.<br>\n",
    "- a function must be called with the same number of arguments in calling and defination."
   ]
  },
  {
   "cell_type": "markdown",
   "metadata": {},
   "source": [
    "<b>syntax:</b>\n",
    " \n",
    "    def function_name(cls, arg1, arg2, ...): # function defination with def keyword\n",
    "        \"\"\"docstring\"\"\"                      # Optional documentation string (docstring) to describe what the function does\n",
    "        statement(s)                         # code\n",
    "        return [expression list]             # An optional return statement to return a value from the function\n",
    "              \n",
    "              \n",
    "         function_name(parameters)           # function call\n",
    "         "
   ]
  },
  {
   "cell_type": "code",
   "execution_count": 4,
   "metadata": {},
   "outputs": [
    {
     "name": "stdout",
     "output_type": "stream",
     "text": [
      "hello vamshi\n"
     ]
    }
   ],
   "source": [
    "# simple funtion\n",
    "def krishna(name): \n",
    "    print(\"hello \"+name)\n",
    "    \n",
    "krishna('vamshi')"
   ]
  },
  {
   "cell_type": "code",
   "execution_count": 5,
   "metadata": {},
   "outputs": [
    {
     "name": "stdout",
     "output_type": "stream",
     "text": [
      "krishna\n",
      "20\n"
     ]
    }
   ],
   "source": [
    "# return statement using object self\n",
    "class Test: \n",
    "    def __init__(self): \n",
    "        self.str = \"krishna\"\n",
    "        self.x = 20   \n",
    "def fun(): \n",
    "    return Test() \n",
    "\n",
    "t = fun()  \n",
    "print(t.str) \n",
    "print(t.x)"
   ]
  },
  {
   "cell_type": "markdown",
   "metadata": {},
   "source": [
    "## pass"
   ]
  },
  {
   "cell_type": "code",
   "execution_count": 6,
   "metadata": {},
   "outputs": [],
   "source": [
    "def fun():   # Empty function\n",
    "    pass"
   ]
  },
  {
   "cell_type": "code",
   "execution_count": 7,
   "metadata": {},
   "outputs": [],
   "source": [
    "fun()"
   ]
  },
  {
   "cell_type": "markdown",
   "metadata": {},
   "source": [
    "### Return"
   ]
  },
  {
   "cell_type": "code",
   "execution_count": 8,
   "metadata": {},
   "outputs": [
    {
     "name": "stdout",
     "output_type": "stream",
     "text": [
      "krishna\n",
      "20\n"
     ]
    }
   ],
   "source": [
    "# return statement using object self\n",
    "\n",
    "class Test: \n",
    "    def __init__(self): \n",
    "        self.str = \"krishna\"\n",
    "        self.x = 20   \n",
    "def fun(): \n",
    "    return Test() \n",
    "\n",
    "t = fun()  \n",
    "print(t.str) \n",
    "print(t.x) "
   ]
  },
  {
   "cell_type": "markdown",
   "metadata": {},
   "source": [
    "### Number of Arguments"
   ]
  },
  {
   "cell_type": "code",
   "execution_count": 11,
   "metadata": {},
   "outputs": [
    {
     "name": "stdout",
     "output_type": "stream",
     "text": [
      "Email hello\n"
     ]
    }
   ],
   "source": [
    "def my_function(fname, lname):\n",
    "  print(fname + \" \" + lname)\n",
    "\n",
    "my_function(\"Email\",'hello')   #passing arguments to funtion defination"
   ]
  },
  {
   "cell_type": "markdown",
   "metadata": {},
   "source": [
    "If we pass greaterthan or less than number of parameters it gets TypeError of missing to handle we use arbitrary Arguments."
   ]
  },
  {
   "cell_type": "code",
   "execution_count": 12,
   "metadata": {},
   "outputs": [
    {
     "ename": "TypeError",
     "evalue": "my_function() missing 1 required positional argument: 'lname'",
     "output_type": "error",
     "traceback": [
      "\u001b[1;31m---------------------------------------------------------------------------\u001b[0m",
      "\u001b[1;31mTypeError\u001b[0m                                 Traceback (most recent call last)",
      "\u001b[1;32m<ipython-input-12-960a203e0a35>\u001b[0m in \u001b[0;36m<module>\u001b[1;34m\u001b[0m\n\u001b[0;32m      2\u001b[0m     \u001b[0mprint\u001b[0m\u001b[1;33m(\u001b[0m\u001b[0mfname\u001b[0m \u001b[1;33m+\u001b[0m \u001b[1;34m\" \"\u001b[0m \u001b[1;33m+\u001b[0m \u001b[0mlname\u001b[0m\u001b[1;33m)\u001b[0m\u001b[1;33m\u001b[0m\u001b[1;33m\u001b[0m\u001b[0m\n\u001b[0;32m      3\u001b[0m \u001b[1;33m\u001b[0m\u001b[0m\n\u001b[1;32m----> 4\u001b[1;33m \u001b[0mmy_function\u001b[0m\u001b[1;33m(\u001b[0m\u001b[1;34m\"Emil\"\u001b[0m\u001b[1;33m)\u001b[0m \u001b[1;31m# we passed only 1\u001b[0m\u001b[1;33m\u001b[0m\u001b[1;33m\u001b[0m\u001b[0m\n\u001b[0m",
      "\u001b[1;31mTypeError\u001b[0m: my_function() missing 1 required positional argument: 'lname'"
     ]
    }
   ],
   "source": [
    "def my_function(fname, lname):# 2 arguments\n",
    "    print(fname + \" \" + lname)\n",
    "\n",
    "my_function(\"Emil\") # we passed only 1"
   ]
  },
  {
   "cell_type": "markdown",
   "metadata": {},
   "source": [
    "### Arbitrary Arguments, *args(Non Keyword Arguments)"
   ]
  },
  {
   "cell_type": "markdown",
   "metadata": {},
   "source": [
    "- From Above error you can see that you do not know how many arguments that will be passed into your function but that can be managed by using this *args.\n",
    "- add *a before the parameter name in the function definition. It will take a tuple of arguments accordingly "
   ]
  },
  {
   "cell_type": "code",
   "execution_count": 13,
   "metadata": {},
   "outputs": [
    {
     "name": "stdout",
     "output_type": "stream",
     "text": [
      "The youngest child is Tobias\n"
     ]
    }
   ],
   "source": [
    "def my_function(*kids):\n",
    "  print(\"The youngest child is \" + kids[1]) # by certain index\n",
    "\n",
    "my_function(\"Emil\", \"Tobias\", \"Linus\")"
   ]
  },
  {
   "cell_type": "code",
   "execution_count": 14,
   "metadata": {},
   "outputs": [
    {
     "name": "stdout",
     "output_type": "stream",
     "text": [
      "Hello\n",
      "Welcome\n",
      "to\n",
      "Krishna\n"
     ]
    }
   ],
   "source": [
    "def myFun(*argv):  \n",
    "    for arg in argv:  \n",
    "        print (arg) \n",
    "    \n",
    "myFun('Hello', 'Welcome', 'to', 'Krishna')  # Using loop"
   ]
  },
  {
   "cell_type": "markdown",
   "metadata": {},
   "source": [
    "### Keyword Arguments, kwargs"
   ]
  },
  {
   "cell_type": "markdown",
   "metadata": {},
   "source": [
    "- You can also send arguments with the key = value syntax. The way the order of the arguments does not matter.\n",
    "- Keyword Arguments are often shortened to kwargs in Python documentations."
   ]
  },
  {
   "cell_type": "code",
   "execution_count": 19,
   "metadata": {},
   "outputs": [
    {
     "name": "stdout",
     "output_type": "stream",
     "text": [
      "The favorite snack is laddu\n"
     ]
    }
   ],
   "source": [
    "def my_function(snack3, snack2, snack1):\n",
    "  print(\"The favorite snack is \" + snack3)\n",
    "\n",
    "my_function(snack1 = \"chocolate\", snack2 = \"biscuit\", snack3 = \"laddu\")"
   ]
  },
  {
   "cell_type": "code",
   "execution_count": 20,
   "metadata": {},
   "outputs": [
    {
     "ename": "TypeError",
     "evalue": "my_function() missing 1 required positional argument: 'snack3'",
     "output_type": "error",
     "traceback": [
      "\u001b[1;31m---------------------------------------------------------------------------\u001b[0m",
      "\u001b[1;31mTypeError\u001b[0m                                 Traceback (most recent call last)",
      "\u001b[1;32m<ipython-input-20-5ee61e76180c>\u001b[0m in \u001b[0;36m<module>\u001b[1;34m\u001b[0m\n\u001b[0;32m      2\u001b[0m   \u001b[0mprint\u001b[0m\u001b[1;33m(\u001b[0m\u001b[1;34m\"The favorite snack is \"\u001b[0m \u001b[1;33m+\u001b[0m \u001b[0msnack3\u001b[0m\u001b[1;33m)\u001b[0m\u001b[1;33m\u001b[0m\u001b[1;33m\u001b[0m\u001b[0m\n\u001b[0;32m      3\u001b[0m \u001b[1;33m\u001b[0m\u001b[0m\n\u001b[1;32m----> 4\u001b[1;33m \u001b[0mmy_function\u001b[0m\u001b[1;33m(\u001b[0m\u001b[0msnack1\u001b[0m \u001b[1;33m=\u001b[0m \u001b[1;34m\"chocolate\"\u001b[0m\u001b[1;33m,\u001b[0m \u001b[0msnack2\u001b[0m \u001b[1;33m=\u001b[0m \u001b[1;34m\"biscuit\"\u001b[0m\u001b[1;33m)\u001b[0m\u001b[1;33m\u001b[0m\u001b[1;33m\u001b[0m\u001b[0m\n\u001b[0m",
      "\u001b[1;31mTypeError\u001b[0m: my_function() missing 1 required positional argument: 'snack3'"
     ]
    }
   ],
   "source": [
    "def my_function(snack3, snack2, snack1):\n",
    "  print(\"The favorite snack is \" + snack3)\n",
    "\n",
    "my_function(snack1 = \"chocolate\", snack2 = \"biscuit\")"
   ]
  },
  {
   "cell_type": "markdown",
   "metadata": {},
   "source": [
    "### Arbitrary Keyword Arguments, **kwargs(Keyword Arguments)"
   ]
  },
  {
   "cell_type": "markdown",
   "metadata": {},
   "source": [
    "- From Above error you can see that you do not know how many keyword arguments that will be passed into your function that can be managed by using this **Kwargs\n",
    "- add **a before the parameter name in the function definition. It will take a tuple of arguments accordingly"
   ]
  },
  {
   "cell_type": "code",
   "execution_count": 22,
   "metadata": {},
   "outputs": [
    {
     "name": "stdout",
     "output_type": "stream",
     "text": [
      "His last name is Refsnes\n"
     ]
    }
   ],
   "source": [
    "def my_function(**kid):\n",
    "  print(\"His last name is \" + kid[\"lname\"])\n",
    "\n",
    "my_function(fname = \"Tobias\", lname = \"Refsnes\")"
   ]
  },
  {
   "cell_type": "markdown",
   "metadata": {},
   "source": [
    "## Docstrings"
   ]
  },
  {
   "cell_type": "markdown",
   "metadata": {},
   "source": [
    "- A docstring is a string literal that occurs as the first statement in a module, function, class, or method definition. Such a docstring becomes the __doc__ special attribute of that object.<br>\n",
    "- docstrings are declared using “””triple double quotes”””.<br>\n",
    "- the line begins with a capital letter, i.e., R and ends with a period (.).<br>\n",
    "- The docstrings can be accessed using the __doc__ method of the object or using the help function.<br>\n",
    "- we two types of docstrings <br>\n",
    "1.One-line<br>\n",
    "2.Multi-line"
   ]
  },
  {
   "cell_type": "markdown",
   "metadata": {},
   "source": [
    "#### 1. One-Line Docstring"
   ]
  },
  {
   "cell_type": "code",
   "execution_count": 17,
   "metadata": {},
   "outputs": [
    {
     "name": "stdout",
     "output_type": "stream",
     "text": [
      "Returned argument a is squared.\n",
      "Help on function square in module __main__:\n",
      "\n",
      "square(a)\n",
      "    Returned argument a is squared.\n",
      "\n"
     ]
    }
   ],
   "source": [
    "def square(a):\n",
    "    '''Returned argument a is squared.'''\n",
    "    return a**a\n",
    "print (square.__doc__)\n",
    "help(square)"
   ]
  },
  {
   "cell_type": "markdown",
   "metadata": {},
   "source": [
    "#### 2. Multi-Line Docstring"
   ]
  },
  {
   "cell_type": "code",
   "execution_count": 18,
   "metadata": {},
   "outputs": [
    {
     "name": "stdout",
     "output_type": "stream",
     "text": [
      " \n",
      "    Summary or Description of the Function\n",
      "    Parameters:\n",
      "    Returns:\n",
      "    \n",
      "    \n",
      "Help on function my_function in module __main__:\n",
      "\n",
      "my_function()\n",
      "    Summary or Description of the Function\n",
      "    Parameters:\n",
      "    Returns:\n",
      "\n"
     ]
    }
   ],
   "source": [
    "def my_function(): \n",
    "    \"\"\" \n",
    "    Summary or Description of the Function\n",
    "    Parameters:\n",
    "    Returns:\n",
    "    \n",
    "    \"\"\"\n",
    "    return None\n",
    "  \n",
    "print (my_function.__doc__ )\n",
    "\n",
    "help(my_function) "
   ]
  }
 ],
 "metadata": {
  "kernelspec": {
   "display_name": "Python 3",
   "language": "python",
   "name": "python3"
  },
  "language_info": {
   "codemirror_mode": {
    "name": "ipython",
    "version": 3
   },
   "file_extension": ".py",
   "mimetype": "text/x-python",
   "name": "python",
   "nbconvert_exporter": "python",
   "pygments_lexer": "ipython3",
   "version": "3.7.6"
  }
 },
 "nbformat": 4,
 "nbformat_minor": 4
}
