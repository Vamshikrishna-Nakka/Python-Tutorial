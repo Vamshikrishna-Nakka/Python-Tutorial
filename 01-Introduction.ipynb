{
 "cells": [
  {
   "cell_type": "markdown",
   "metadata": {},
   "source": [
    "# Introduction"
   ]
  },
  {
   "cell_type": "markdown",
   "metadata": {},
   "source": [
    "- Python is a widely used high-level programming language for general-purpose programming language.\n",
    "- It was designed by Guido van Rossum and released in 1991 and further developed by the Python Software Foundation.\n",
    "- Python is a dynamic typed, interpreted (bytecode-compiled), automatic memory management and supports multiple programming paradigms. It has a large and comprehensive standard library.\n",
    "- Two major versions of Python are currently in active use:\n",
    " - Python 3.x is the current version and is under active development.\n",
    " - Python 2.x is the legacy version and will receive only security updates until 2020. No new features will be implemented. Note that many projects still use Python 2, although migrating to Python 3 is getting easier.\n",
    "- Python s name is derived from the British comedy group<b> Monty Pythons flying circus</b>.\n",
    " - Multi-paradigm:- functional, imperative, object-oriented, structured, reflective and procedural styles.\n",
    " - file extensions:- .py, .pyi, .pyc, .pyd, .pyo (prior to 3.5),.pyw, .pyz (since 3.5)\n",
    " - Major implementations:- CPython, PyPy, Stackless Python, MicroPython, CircuitPython, IronPython, Jython, RustPython.\n",
    "\n",
    "<b>Python 3.x</b> <br>\n",
    "Version Release Date<br>\n",
    " \n",
    "3.8 2020-04-29<br>\n",
    "3.7 2018-06-27<br>\n",
    "3.6 2016-12-23<br>\n",
    "3.5 2015-09-13<br>\n",
    "3.4 2014-03-17<br>\n",
    "3.3 2012-09-29<br>\n",
    "3.2 2011-02-20<br>\n",
    "3.1 2009-06-26<br>\n",
    "3.0 2008-12-03<br>\n",
    "\n",
    "<b>Why Python?</b>\n",
    "\n",
    "- Open source<br>\n",
    "- platform independent<br>\n",
    "- Very large and collaborative developer community.<br>\n",
    "- Extensive collection of standard librarys like pandas,numpy etc.,<br>\n",
    "- Python can be treated in a procedural way, an object-orientated way or a functional way.<br>"
   ]
  },
  {
   "cell_type": "code",
   "execution_count": 32,
   "metadata": {},
   "outputs": [
    {
     "ename": "NameError",
     "evalue": "name 'python' is not defined",
     "output_type": "error",
     "traceback": [
      "\u001b[1;31m---------------------------------------------------------------------------\u001b[0m",
      "\u001b[1;31mNameError\u001b[0m                                 Traceback (most recent call last)",
      "\u001b[1;32m<ipython-input-32-1a01b9e9bf9f>\u001b[0m in \u001b[0;36m<module>\u001b[1;34m\u001b[0m\n\u001b[0;32m      1\u001b[0m \u001b[1;31m# To know about version of python in terminal when installed on a pc or linux\u001b[0m\u001b[1;33m\u001b[0m\u001b[1;33m\u001b[0m\u001b[1;33m\u001b[0m\u001b[0m\n\u001b[1;32m----> 2\u001b[1;33m \u001b[0mpython\u001b[0m \u001b[1;33m-\u001b[0m\u001b[1;33m-\u001b[0m\u001b[0mversion\u001b[0m\u001b[1;33m\u001b[0m\u001b[1;33m\u001b[0m\u001b[0m\n\u001b[0m",
      "\u001b[1;31mNameError\u001b[0m: name 'python' is not defined"
     ]
    }
   ],
   "source": [
    "# To know about version of python in terminal when installed on a pc or linux\n",
    "python --version  "
   ]
  },
  {
   "cell_type": "code",
   "execution_count": 33,
   "metadata": {},
   "outputs": [
    {
     "ename": "SyntaxError",
     "evalue": "invalid syntax (<ipython-input-33-1116ba809715>, line 3)",
     "output_type": "error",
     "traceback": [
      "\u001b[1;36m  File \u001b[1;32m\"<ipython-input-33-1116ba809715>\"\u001b[1;36m, line \u001b[1;32m3\u001b[0m\n\u001b[1;33m    or\u001b[0m\n\u001b[1;37m     ^\u001b[0m\n\u001b[1;31mSyntaxError\u001b[0m\u001b[1;31m:\u001b[0m invalid syntax\n"
     ]
    }
   ],
   "source": [
    "#when you want to quit the python command line interface\n",
    "exit()\n",
    "or\n",
    "quit()"
   ]
  },
  {
   "cell_type": "markdown",
   "metadata": {},
   "source": [
    "### Print syntax"
   ]
  },
  {
   "cell_type": "markdown",
   "metadata": {},
   "source": [
    "print (object(s), sep=separator, end=\\n, file=file, flush=flush)\n",
    "\n",
    "- object(s)-Any object, and as many as you like. Will be converted to string before printed<br>\n",
    "- sep=     'separator'\tOptional. Specify how to separate the objects, if there is more than one. Default is ' '<br>\n",
    "- end=     'end'\tOptional. Specify what to print at the end. Default is '\\n' (line feed).we can give required like @<br>\n",
    "- file=    Optional. An object with a write method. Default is sys.stdout<br>\n",
    "- flush=   Optional. A Boolean, specifying if the output is flushed (True) or buffered (False). Default is False<br>"
   ]
  },
  {
   "cell_type": "code",
   "execution_count": 4,
   "metadata": {},
   "outputs": [
    {
     "name": "stdout",
     "output_type": "stream",
     "text": [
      "Hello World\n"
     ]
    }
   ],
   "source": [
    "# One object is passed \n",
    "print(\"Hello World\") "
   ]
  },
  {
   "cell_type": "code",
   "execution_count": 5,
   "metadata": {},
   "outputs": [
    {
     "name": "stdout",
     "output_type": "stream",
     "text": [
      "x = 5\n"
     ]
    }
   ],
   "source": [
    "# Two objects are passed \n",
    "x = 5\n",
    "print(\"x =\", x) "
   ]
  },
  {
   "cell_type": "code",
   "execution_count": 14,
   "metadata": {},
   "outputs": [
    {
     "name": "stdout",
     "output_type": "stream",
     "text": [
      "GFG\n",
      "G--F--G\n",
      "Hello--->how are you?\n"
     ]
    }
   ],
   "source": [
    "# code for disabling the softspace feature(in comma that separater prints)\n",
    "print('G','F','G', sep ='') # Default \n",
    "print('G','F','G', sep ='--')\n",
    "print(\"Hello\",\"how are you?\", sep=\"--->\")"
   ]
  },
  {
   "cell_type": "code",
   "execution_count": 24,
   "metadata": {},
   "outputs": [
    {
     "name": "stdout",
     "output_type": "stream",
     "text": [
      "Python@Krishna\n",
      "Python-Krishna\n"
     ]
    }
   ],
   "source": [
    "# using end argument with @\n",
    "print(\"Python\",end ='@')   \n",
    "print(\"Krishna\")  \n",
    "\n",
    "# using end argument with -\n",
    "print(\"Python\",end ='-')   \n",
    "print(\"Krishna\")  "
   ]
  },
  {
   "cell_type": "markdown",
   "metadata": {},
   "source": [
    "<b>How to print without newline in Python?</b>"
   ]
  },
  {
   "cell_type": "code",
   "execution_count": 27,
   "metadata": {},
   "outputs": [
    {
     "name": "stdout",
     "output_type": "stream",
     "text": [
      "Hello\n",
      "Krishna\n",
      "Hello Krishna\n"
     ]
    }
   ],
   "source": [
    "#python print() function by default ends with newline\n",
    "print(\"Hello\") \n",
    "print(\"Krishna\")\n",
    "#ends without newline.Python has a predefined format if you use print(a_variable)then it will go to next line automatically.\n",
    "print(\"Hello\", end =\" \")\n",
    "print(\"Krishna\")"
   ]
  },
  {
   "cell_type": "code",
   "execution_count": 28,
   "metadata": {},
   "outputs": [
    {
     "name": "stdout",
     "output_type": "stream",
     "text": [
      "apple apple apple\n",
      "python is apple\n",
      "apple apple\n"
     ]
    }
   ],
   "source": [
    "p = q = r = \"apple\"\n",
    "print(p,q,r)\n",
    "print(\"python is \"+ r)\n",
    "print(p + \" \"+r)"
   ]
  },
  {
   "cell_type": "markdown",
   "metadata": {},
   "source": [
    "### Comments\n",
    "There is no specific syntax for multiline comments"
   ]
  },
  {
   "cell_type": "code",
   "execution_count": 29,
   "metadata": {},
   "outputs": [],
   "source": [
    "#single line comment"
   ]
  },
  {
   "cell_type": "code",
   "execution_count": 30,
   "metadata": {},
   "outputs": [],
   "source": [
    "#Multi\n",
    "#line comments"
   ]
  },
  {
   "cell_type": "markdown",
   "metadata": {},
   "source": [
    "### Indentation\n"
   ]
  },
  {
   "cell_type": "markdown",
   "metadata": {},
   "source": [
    "- Python uses  Indentation for blocks, instead of curly braces.\n",
    "- Both tabs and spaces are supported, but the standard indentation requires standard Python code to use four spaces."
   ]
  },
  {
   "cell_type": "code",
   "execution_count": 34,
   "metadata": {},
   "outputs": [
    {
     "ename": "IndentationError",
     "evalue": "expected an indented block (<ipython-input-34-73d08e13ef85>, line 3)",
     "output_type": "error",
     "traceback": [
      "\u001b[1;36m  File \u001b[1;32m\"<ipython-input-34-73d08e13ef85>\"\u001b[1;36m, line \u001b[1;32m3\u001b[0m\n\u001b[1;33m    print(\"Five is greater than two!\")\u001b[0m\n\u001b[1;37m        ^\u001b[0m\n\u001b[1;31mIndentationError\u001b[0m\u001b[1;31m:\u001b[0m expected an indented block\n"
     ]
    }
   ],
   "source": [
    "# with out Indentation makes error\n",
    "if 5 > 2:\n",
    "print(\"Five is greater than two!\")"
   ]
  },
  {
   "cell_type": "code",
   "execution_count": 35,
   "metadata": {},
   "outputs": [
    {
     "name": "stdout",
     "output_type": "stream",
     "text": [
      "Five is greater than two!\n"
     ]
    }
   ],
   "source": [
    "# with Indentation makes no error\n",
    "if 5 > 2:\n",
    "      print(\"Five is greater than two!\")"
   ]
  },
  {
   "cell_type": "markdown",
   "metadata": {},
   "source": [
    "### Multiline statements on single line"
   ]
  },
  {
   "cell_type": "code",
   "execution_count": 36,
   "metadata": {},
   "outputs": [],
   "source": [
    "#Declared using Continuation Character (\\):\n",
    "s = 1 + 2 + 3 + \\\n",
    "    4 + 5 + 6 + \\\n",
    "    7 + 8 + 9"
   ]
  },
  {
   "cell_type": "code",
   "execution_count": 37,
   "metadata": {},
   "outputs": [],
   "source": [
    "#Declared using parentheses () :\n",
    "n = (1 * 2 * 3 + 7 + 8 + 9)"
   ]
  },
  {
   "cell_type": "code",
   "execution_count": 38,
   "metadata": {},
   "outputs": [],
   "source": [
    "#Declared using square brackets [] :\n",
    "footballer = ['MESSI',\n",
    "          'NEYMAR',\n",
    "          'SUAREZ']"
   ]
  },
  {
   "cell_type": "code",
   "execution_count": 39,
   "metadata": {},
   "outputs": [],
   "source": [
    "#Declared using braces {} :\n",
    "x = {1 + 2 + 3 + 4 + 5 + 6 +\n",
    "     7 + 8 + 9}"
   ]
  },
  {
   "cell_type": "code",
   "execution_count": 41,
   "metadata": {},
   "outputs": [
    {
     "name": "stdout",
     "output_type": "stream",
     "text": [
      "Hi all\n"
     ]
    }
   ],
   "source": [
    "#Declared using semicolons(;) :\n",
    "flag = 2; ropes = 3; pole = 4;print(\"Hi all\")"
   ]
  },
  {
   "cell_type": "markdown",
   "metadata": {},
   "source": [
    "### Important differences between Python 2.x and Python 3.x"
   ]
  },
  {
   "cell_type": "markdown",
   "metadata": {},
   "source": [
    "##### 1. Division operator:"
   ]
  },
  {
   "cell_type": "code",
   "execution_count": 42,
   "metadata": {},
   "outputs": [
    {
     "name": "stdout",
     "output_type": "stream",
     "text": [
      "1.4\n"
     ]
    }
   ],
   "source": [
    "# you will getout 1.4 in v3 but in v2 you will get 1 \n",
    "print (7 / 5)"
   ]
  },
  {
   "cell_type": "markdown",
   "metadata": {},
   "source": [
    "###### 2. Print function: \n",
    "if we use parentheses in python 2.x then there is no issue but if we don’t use parentheses in python 3.x,we get SyntaxError."
   ]
  },
  {
   "cell_type": "code",
   "execution_count": 50,
   "metadata": {},
   "outputs": [
    {
     "ename": "SyntaxError",
     "evalue": "Missing parentheses in call to 'print'. Did you mean print('Hello, friends')? (<ipython-input-50-31e1471f4705>, line 2)",
     "output_type": "error",
     "traceback": [
      "\u001b[1;36m  File \u001b[1;32m\"<ipython-input-50-31e1471f4705>\"\u001b[1;36m, line \u001b[1;32m2\u001b[0m\n\u001b[1;33m    print 'Hello, friends'\u001b[0m\n\u001b[1;37m                         ^\u001b[0m\n\u001b[1;31mSyntaxError\u001b[0m\u001b[1;31m:\u001b[0m Missing parentheses in call to 'print'. Did you mean print('Hello, friends')?\n"
     ]
    }
   ],
   "source": [
    "#version 2\n",
    "print 'Hello, friends'"
   ]
  },
  {
   "cell_type": "code",
   "execution_count": 48,
   "metadata": {},
   "outputs": [
    {
     "name": "stdout",
     "output_type": "stream",
     "text": [
      "Hope You like these fact\n"
     ]
    }
   ],
   "source": [
    "#version3\n",
    "print('Hope You like these fact')"
   ]
  },
  {
   "cell_type": "markdown",
   "metadata": {},
   "source": [
    "##### 3. Unicode"
   ]
  },
  {
   "cell_type": "code",
   "execution_count": null,
   "metadata": {},
   "outputs": [],
   "source": []
  }
 ],
 "metadata": {
  "kernelspec": {
   "display_name": "Python 3",
   "language": "python",
   "name": "python3"
  },
  "language_info": {
   "codemirror_mode": {
    "name": "ipython",
    "version": 3
   },
   "file_extension": ".py",
   "mimetype": "text/x-python",
   "name": "python",
   "nbconvert_exporter": "python",
   "pygments_lexer": "ipython3",
   "version": "3.7.6"
  }
 },
 "nbformat": 4,
 "nbformat_minor": 4
}
